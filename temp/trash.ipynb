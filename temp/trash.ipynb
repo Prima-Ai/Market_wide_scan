{
 "cells": [
  {
   "cell_type": "code",
   "execution_count": 1,
   "metadata": {},
   "outputs": [
    {
     "name": "stdout",
     "output_type": "stream",
     "text": [
      "The length of data is 5464\n",
      "Length of weekly prices 1149\n",
      "Date\n",
      "2002-07-07      10.247908\n",
      "2002-07-14       9.639643\n",
      "2002-07-21       9.617855\n",
      "2002-07-28      10.077231\n",
      "2002-08-04       9.984629\n",
      "                 ...     \n",
      "2024-06-09    8073.250000\n",
      "2024-06-16    9020.000000\n",
      "2024-06-23    8399.400391\n",
      "2024-06-30    8490.900391\n",
      "2024-07-07    8587.400391\n",
      "Freq: W-SUN, Name: Close, Length: 1149, dtype: float64\n"
     ]
    }
   ],
   "source": [
    "import pandas as pd\n",
    "\n",
    "def week1(data):\n",
    "    # Read the CSV file into a DataFrame\n",
    "    df = pd.read_csv(data)\n",
    "    \n",
    "    # Convert the 'Date' column to datetime format\n",
    "    df['Date'] = pd.to_datetime(df['Date'])\n",
    "    \n",
    "    # Set the 'Date' column as the index\n",
    "    df.set_index('Date', inplace=True)\n",
    "    \n",
    "    # Resample the data to weekly frequency, taking the last 'Close' value in each week\n",
    "    weekly_prices = df['Close'].resample('W').last()\n",
    "    \n",
    "    # Print the length of the original and resampled data\n",
    "    print(\"The length of data is\", len(df))\n",
    "    print(\"Length of weekly prices\", len(weekly_prices))\n",
    "    \n",
    "    return weekly_prices\n",
    "\n",
    "path = \"C:/MY_PROJECTS/market_wide_scan/data/ABB.csv\"\n",
    "weekly_prices = week1(path)\n",
    "print(weekly_prices)\n"
   ]
  },
  {
   "cell_type": "code",
   "execution_count": null,
   "metadata": {},
   "outputs": [],
   "source": []
  }
 ],
 "metadata": {
  "kernelspec": {
   "display_name": "OLLAMA",
   "language": "python",
   "name": "python3"
  },
  "language_info": {
   "codemirror_mode": {
    "name": "ipython",
    "version": 3
   },
   "file_extension": ".py",
   "mimetype": "text/x-python",
   "name": "python",
   "nbconvert_exporter": "python",
   "pygments_lexer": "ipython3",
   "version": "3.12.3"
  }
 },
 "nbformat": 4,
 "nbformat_minor": 2
}

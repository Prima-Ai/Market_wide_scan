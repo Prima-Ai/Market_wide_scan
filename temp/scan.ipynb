{
 "cells": [
  {
   "cell_type": "code",
   "execution_count": 21,
   "metadata": {},
   "outputs": [
    {
     "name": "stdout",
     "output_type": "stream",
     "text": [
      "the lenght of data is 5465\n",
      "lenght of weekly prices 1149\n",
      "lenght of data when 60ma calculated 5465\n"
     ]
    },
    {
     "name": "stderr",
     "output_type": "stream",
     "text": [
      "C:\\Users\\TUF GAMING\\AppData\\Local\\Temp\\ipykernel_10592\\3017425661.py:23: FutureWarning: Series.__getitem__ treating keys as positions is deprecated. In a future version, integer keys will always be treated as labels (consistent with DataFrame behavior). To access a value by position, use `ser.iloc[pos]`\n",
      "  extent_fall = ((data['60_weekly_ma'][i+1] - data['60_weekly_ma'][i])/data['60_weekly_ma'][i])*100\n"
     ]
    },
    {
     "name": "stdout",
     "output_type": "stream",
     "text": [
      "length of fall 5465\n"
     ]
    }
   ],
   "source": [
    "import pandas as pd\n",
    "\n",
    "path = \"C:/MY_PROJECTS/market_wide_scan/data/ADANIENT.csv\"\n",
    "\n",
    "data = pd.read_csv(path)\n",
    "# convert Date column to datetime format\n",
    "data['Date'] = pd.to_datetime(data['Date'])\n",
    "# set the 'Date' column as the index\n",
    "data.set_index('Date',inplace=True)\n",
    "# lenght of the original data\n",
    "print(\"the lenght of data is\",len(data))\n",
    "# resample the data to weekly frequency\n",
    "weekly_prices = data['Close'].resample('W').last()\n",
    "# length of the weekly prices\n",
    "print(\"lenght of weekly prices\",len(weekly_prices))\n",
    "data['weekly'] = weekly_prices.reindex(data.index, method='ffill')\n",
    "# calculate 60 ma for weekly data\n",
    "weekly_prices_60ma = weekly_prices.rolling(window=60).mean()\n",
    "data['60_weekly_ma'] = weekly_prices_60ma.reindex(data.index, method='ffill')\n",
    "print(\"lenght of data when 60ma calculated\",len(data))\n",
    "fall = []\n",
    "for i in range(len(data)-1):\n",
    "    extent_fall = ((data['60_weekly_ma'][i+1] - data['60_weekly_ma'][i])/data['60_weekly_ma'][i])*100\n",
    "    fall.append(extent_fall)\n",
    "fall.append(fall[-1])\n",
    "print(\"length of fall\", len(fall))\n",
    "data['extent_fall'] = fall\n",
    "data = data.to_csv(\"C:/MY_PROJECTS/market_wide_scan/data.csv\") "
   ]
  },
  {
   "cell_type": "code",
   "execution_count": null,
   "metadata": {},
   "outputs": [],
   "source": []
  },
  {
   "cell_type": "code",
   "execution_count": null,
   "metadata": {},
   "outputs": [],
   "source": []
  }
 ],
 "metadata": {
  "kernelspec": {
   "display_name": "OLLAMA",
   "language": "python",
   "name": "python3"
  },
  "language_info": {
   "codemirror_mode": {
    "name": "ipython",
    "version": 3
   },
   "file_extension": ".py",
   "mimetype": "text/x-python",
   "name": "python",
   "nbconvert_exporter": "python",
   "pygments_lexer": "ipython3",
   "version": "3.12.3"
  }
 },
 "nbformat": 4,
 "nbformat_minor": 2
}

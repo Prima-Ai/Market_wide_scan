{
 "cells": [
  {
   "cell_type": "code",
   "execution_count": 10,
   "metadata": {},
   "outputs": [
    {
     "name": "stdout",
     "output_type": "stream",
     "text": [
      "length of data is 5465\n",
      "lenght of weekly prices 2680\n"
     ]
    },
    {
     "name": "stderr",
     "output_type": "stream",
     "text": [
      "C:\\Users\\TUF GAMING\\AppData\\Local\\Temp\\ipykernel_8356\\4221398541.py:16: FutureWarning: Series.__getitem__ treating keys as positions is deprecated. In a future version, integer keys will always be treated as labels (consistent with DataFrame behavior). To access a value by position, use `ser.iloc[pos]`\n",
      "  fall_of_extent = ((data['60ma'][i+1] - data['60ma'][i])/data['60ma'][i])*100\n"
     ]
    },
    {
     "name": "stdout",
     "output_type": "stream",
     "text": [
      "lenght of fall list 5465\n"
     ]
    },
    {
     "data": {
      "text/plain": [
       "'done all process'"
      ]
     },
     "execution_count": 10,
     "metadata": {},
     "output_type": "execute_result"
    }
   ],
   "source": [
    "import pandas as pd\n",
    "\n",
    "def get_paras(path,NOD,MA,column_name):\n",
    "    data = pd.read_csv(path)\n",
    "    data['Date'] = pd.to_datetime(data['Date'])\n",
    "    data.set_index('Date',inplace=True)\n",
    "    print(\"length of data is\",len(data))\n",
    "    weekly_prices = data['Close'].resample(NOD).last()\n",
    "    print(\"lenght of weekly prices\",len(weekly_prices))\n",
    "    data[column_name] = weekly_prices.reindex(data.index,method='ffill')\n",
    "    # calculate 60ma for weekly data\n",
    "    weekly_prices_60ma = weekly_prices.rolling(window=MA).mean()\n",
    "    data['60ma'] = weekly_prices_60ma.reindex(data.index, method='ffill')\n",
    "    fall = []\n",
    "    for i in range(len(data)-1):\n",
    "        fall_of_extent = ((data['60ma'][i+1] - data['60ma'][i])/data['60ma'][i])*100\n",
    "        fall.append(fall_of_extent)\n",
    "    fall.append(0.0)\n",
    "    print(\"lenght of fall list\",len(fall))\n",
    "    data['extent_of_fall'] = fall\n",
    "    data = data.to_csv(\"C:/MY_PROJECTS/market_wide_scan/Daily.csv\")\n",
    "    return \"done all process\"\n",
    "\n",
    "path = \"C:/MY_PROJECTS/market_wide_scan/data/ADANIENT.csv\"\n",
    "NOD = '3D'\n",
    "MA = 60\n",
    "column_name = 'Daily'\n",
    "get_paras(path,NOD,MA,column_name)"
   ]
  },
  {
   "cell_type": "code",
   "execution_count": 22,
   "metadata": {},
   "outputs": [
    {
     "name": "stdout",
     "output_type": "stream",
     "text": [
      "type of csv files <class 'list'>\n",
      "ABB\n",
      "ABBOTINDIA\n",
      "ABCAPITAL\n",
      "ABFRL\n",
      "ACC\n",
      "ADANIENT\n",
      "ADANIGREEN\n",
      "ADANIPORTS\n",
      "ADANIPOWER\n",
      "ADANITRANS\n",
      "ALKEM\n",
      "AMBUJACEM\n",
      "APOLLOHOSP\n",
      "APOLLOTYRE\n",
      "ASHOKLEY\n",
      "ASIANPAINT\n",
      "ASTRAL\n",
      "ATGL\n",
      "AUBANK\n",
      "AUROPHARMA\n",
      "AWL\n",
      "AXISBANK\n",
      "BAJAJ-AUTO\n",
      "BAJAJFINSV\n",
      "BAJAJHLDNG\n",
      "BAJFINANCE\n",
      "BALKRISIND\n",
      "BANDHANBNK\n",
      "BANKBARODA\n",
      "BANKINDIA\n",
      "BATAINDIA\n",
      "BEL\n",
      "BERGEPAINT\n",
      "BHARATFORG\n",
      "BHARTIARTL\n",
      "BHEL\n",
      "BIOCON\n",
      "BOSCHLTD\n",
      "BPCL\n",
      "BRITANNIA\n",
      "CANBK\n",
      "CGPOWER\n",
      "CHOLAFIN\n",
      "CIPLA\n",
      "COALINDIA\n",
      "COFORGE\n",
      "COLPAL\n",
      "CONCOR\n",
      "COROMANDEL\n",
      "CROMPTON\n",
      "CUMMINSIND\n",
      "DABUR\n",
      "DALBHARAT\n",
      "DEEPAKNTR\n",
      "DELHIVERY\n",
      "DEVYANI\n",
      "DIVISLAB\n",
      "DIXON\n",
      "DLF\n",
      "DMART\n",
      "DRREDDY\n",
      "EICHERMOT\n",
      "ESCORTS\n",
      "FEDERALBNK\n",
      "FLUOROCHEM\n",
      "FORTIS\n",
      "GAIL\n",
      "GLAND\n",
      "GODREJCP\n",
      "GODREJPROP\n",
      "GRASIM\n",
      "GUJGASLTD\n",
      "HAL\n",
      "HAVELLS\n",
      "HCLTECH\n",
      "HDFC\n",
      "HDFCAMC\n",
      "HDFCBANK\n",
      "HDFCLIFE\n",
      "HEROMOTOCO\n",
      "HINDALCO\n",
      "HINDPETRO\n",
      "HINDUNILVR\n",
      "HINDZINC\n",
      "HONAUT\n",
      "ICICIBANK\n",
      "ICICIGI\n",
      "ICICIPRULI\n",
      "IDEA\n",
      "IDFCFIRSTB\n",
      "IGL\n",
      "INDHOTEL\n",
      "INDIANB\n",
      "INDIGO\n",
      "INDUSINDBK\n",
      "INDUSTOWER\n",
      "INFY\n",
      "IOC\n",
      "IPCALAB\n",
      "IRCTC\n",
      "IRFC\n",
      "ITC\n",
      "JINDALSTEL\n",
      "JSWENERGY\n",
      "JSWSTEEL\n",
      "JUBLFOOD\n",
      "KOTAKBANK\n",
      "L&TFH\n",
      "LALPATHLAB\n",
      "LAURUSLABS\n",
      "LICHSGFIN\n",
      "LICI\n",
      "LT\n",
      "LTIM\n",
      "LTTS\n",
      "LUPIN\n",
      "M&M\n",
      "M&MFIN\n",
      "MARICO\n",
      "MARUTI\n",
      "MAXHEALTH\n",
      "MCDOWELL-N\n",
      "MFSL\n",
      "MOTHERSON\n",
      "MPHASIS\n",
      "MRF\n",
      "MSUMI\n",
      "MUTHOOTFIN\n",
      "NAUKRI\n",
      "NAVINFLUOR\n",
      "NESTLEIND\n",
      "NHPC\n",
      "NMDC\n",
      "NTPC\n",
      "NYKAA\n",
      "OBEROIRLTY\n",
      "OFSS\n",
      "OIL\n",
      "ONGC\n",
      "PAGEIND\n",
      "PATANJALI\n",
      "PAYTM\n",
      "PEL\n",
      "PERSISTENT\n",
      "PETRONET\n",
      "PFC\n",
      "PGHH\n",
      "PIDILITIND\n",
      "PIIND\n",
      "PNB\n",
      "POLICYBZR\n",
      "POLYCAB\n",
      "POONAWALLA\n",
      "POWERGRID\n",
      "PRESTIGE\n",
      "RAMCOCEM\n",
      "RECLTD\n",
      "RELIANCE\n",
      "SAIL\n",
      "SBICARD\n",
      "SBILIFE\n",
      "SBIN\n",
      "SHREECEM\n",
      "SHRIRAMFIN\n",
      "SIEMENS\n",
      "SONACOMS\n",
      "SRF\n",
      "SUNPHARMA\n",
      "SUNTV\n",
      "SYNGENE\n",
      "TATACHEM\n",
      "TATACOMM\n",
      "TATACONSUM\n",
      "TATAELXSI\n",
      "TATAMOTORS\n",
      "TATAPOWER\n",
      "TATASTEEL\n",
      "TCS\n",
      "TECHM\n",
      "TIINDIA\n",
      "TITAN\n",
      "TORNTPHARM\n",
      "TORNTPOWER\n",
      "TRENT\n",
      "TRIDENT\n",
      "TTML\n",
      "TVSMOTOR\n",
      "UBL\n",
      "ULTRACEMCO\n",
      "UNIONBANK\n",
      "UPL\n",
      "VBL\n",
      "VEDL\n",
      "VOLTAS\n",
      "WHIRLPOOL\n",
      "WIPRO\n",
      "YESBANK\n",
      "ZEEL\n",
      "ZOMATO\n",
      "ZYDUSLIFE\n"
     ]
    }
   ],
   "source": [
    "## get the csv files from the directory\n",
    "import os\n",
    "import glob\n",
    "\n",
    "def get_csv_file_paths(directory):\n",
    "    csv_files = glob.glob(os.path.join(directory,\"*.csv\"))\n",
    "    print(\"type of csv files\",type(csv_files))\n",
    "    return csv_files\n",
    "directory = \"C:/MY_PROJECTS/market_wide_scan/data/\"\n",
    "csv_files = get_csv_file_paths(directory)\n",
    "for i in csv_files:\n",
    "    file_name_with_extension = os.path.basename(f'{i}')\n",
    "    file_name, file_extension = os.path.splitext(file_name_with_extension)\n",
    "    print(file_name)"
   ]
  },
  {
   "cell_type": "code",
   "execution_count": 29,
   "metadata": {},
   "outputs": [],
   "source": [
    "## get paras for all 200 stocks\n",
    "import pandas as pd\n",
    "class market_wide_scan:\n",
    "    def __init__(self):\n",
    "        self.csv = \"C:/MY_PROJECTS/market_wide_scan/data/ADANIENT.csv\"\n",
    "\n",
    "    def get_csv_file_paths(directory):\n",
    "        csv_files = glob.glob(os.path.join(directory,\"*.csv\"))\n",
    "        print(\"type of csv files\",type(csv_files))\n",
    "        return csv_files\n",
    "        \n",
    "    directory = \"C:/MY_PROJECTS/market_wide_scan/data\"\n",
    "        \n",
    "    def get_paras(self,NOD,MA,column_name):\n",
    "        csv_files = get_csv_file_paths(directory)\n",
    "        for i in csv_files:\n",
    "            data = pd.read_csv(f\"{i}\")\n",
    "            data['Date'] = pd.to_datetime(data['Date'])\n",
    "            data.set_index('Date',inplace=True)\n",
    "            print(\"length of data is\",len(data))\n",
    "            weekly_prices = data['Close'].resample(NOD).last()\n",
    "            print(\"lenght of weekly prices\",len(weekly_prices))\n",
    "            data[column_name] = weekly_prices.reindex(data.index,method='ffill')\n",
    "            # calculate 60ma for weekly data\n",
    "            weekly_prices_60ma = weekly_prices.rolling(window=MA).mean()\n",
    "            data['60ma'] = weekly_prices_60ma.reindex(data.index, method='ffill')\n",
    "            fall = []\n",
    "            for i in range(len(data)-1):\n",
    "                fall_of_extent = ((data['60ma'][i+1] - data['60ma'][i])/data['60ma'][i])*100\n",
    "                fall.append(fall_of_extent)\n",
    "            fall.append(0.0)\n",
    "            print(\"lenght of fall list\",len(fall))\n",
    "            data['extent_of_fall'] = fall\n",
    "            file_name_with_extension = os.path.basename(f'{i}')\n",
    "            file_name, file_extension = os.path.splitext(file_name_with_extension)\n",
    "            print(file_name)\n",
    "            # data = data.to_csv(f\"C:/MY_PROJECTS/market_wide_scan/op_files/{file_name}.csv\")\n",
    "            output = f\"C:/MY_PROJECTS/market_wide_scan/op_files/{file_name}{file_extension}\"\n",
    "            data.to_csv(output)\n",
    "        return \"done all process\"\n",
    "\n",
    "# path = \"C:/MY_PROJECTS/market_wide_scan/data/ADANIENT.csv\"\n",
    "NOD = 'W'\n",
    "MA = 60\n",
    "column_name = 'Weekly'\n",
    "scanner = market_wide_scan()\n",
    "paras = scanner.get_paras(NOD,MA,column_name)"
   ]
  },
  {
   "cell_type": "code",
   "execution_count": 32,
   "metadata": {},
   "outputs": [
    {
     "name": "stdout",
     "output_type": "stream",
     "text": [
      "type of csv files <class 'list'>\n",
      "length of data is 5466\n",
      "length of weekly prices 1149\n"
     ]
    },
    {
     "name": "stderr",
     "output_type": "stream",
     "text": [
      "C:\\Users\\TUF GAMING\\AppData\\Local\\Temp\\ipykernel_19796\\1835136729.py:31: FutureWarning: Series.__getitem__ treating keys as positions is deprecated. In a future version, integer keys will always be treated as labels (consistent with DataFrame behavior). To access a value by position, use `ser.iloc[pos]`\n",
      "  fall_of_extent = ((data['60ma'][i + 1] - data['60ma'][i]) / data['60ma'][i]) * 100\n"
     ]
    },
    {
     "name": "stdout",
     "output_type": "stream",
     "text": [
      "length of fall list 5466\n",
      "Saved file: C:/MY_PROJECTS/market_wide_scan/op_files/ABB.csv\n",
      "length of data is 5436\n",
      "length of weekly prices 1143\n"
     ]
    },
    {
     "name": "stderr",
     "output_type": "stream",
     "text": [
      "C:\\Users\\TUF GAMING\\AppData\\Local\\Temp\\ipykernel_19796\\1835136729.py:31: FutureWarning: Series.__getitem__ treating keys as positions is deprecated. In a future version, integer keys will always be treated as labels (consistent with DataFrame behavior). To access a value by position, use `ser.iloc[pos]`\n",
      "  fall_of_extent = ((data['60ma'][i + 1] - data['60ma'][i]) / data['60ma'][i]) * 100\n"
     ]
    },
    {
     "name": "stdout",
     "output_type": "stream",
     "text": [
      "length of fall list 5436\n",
      "Saved file: C:/MY_PROJECTS/market_wide_scan/op_files/ABBOTINDIA.csv\n",
      "length of data is 1687\n",
      "length of weekly prices 358\n",
      "length of fall list 1687\n",
      "Saved file: C:/MY_PROJECTS/market_wide_scan/op_files/ABCAPITAL.csv\n",
      "length of data is 2700\n",
      "length of weekly prices 573\n"
     ]
    },
    {
     "name": "stderr",
     "output_type": "stream",
     "text": [
      "C:\\Users\\TUF GAMING\\AppData\\Local\\Temp\\ipykernel_19796\\1835136729.py:31: FutureWarning: Series.__getitem__ treating keys as positions is deprecated. In a future version, integer keys will always be treated as labels (consistent with DataFrame behavior). To access a value by position, use `ser.iloc[pos]`\n",
      "  fall_of_extent = ((data['60ma'][i + 1] - data['60ma'][i]) / data['60ma'][i]) * 100\n",
      "C:\\Users\\TUF GAMING\\AppData\\Local\\Temp\\ipykernel_19796\\1835136729.py:31: FutureWarning: Series.__getitem__ treating keys as positions is deprecated. In a future version, integer keys will always be treated as labels (consistent with DataFrame behavior). To access a value by position, use `ser.iloc[pos]`\n",
      "  fall_of_extent = ((data['60ma'][i + 1] - data['60ma'][i]) / data['60ma'][i]) * 100\n"
     ]
    },
    {
     "name": "stdout",
     "output_type": "stream",
     "text": [
      "length of fall list 2700\n",
      "Saved file: C:/MY_PROJECTS/market_wide_scan/op_files/ABFRL.csv\n",
      "length of data is 5463\n",
      "length of weekly prices 1149\n"
     ]
    },
    {
     "name": "stderr",
     "output_type": "stream",
     "text": [
      "C:\\Users\\TUF GAMING\\AppData\\Local\\Temp\\ipykernel_19796\\1835136729.py:31: FutureWarning: Series.__getitem__ treating keys as positions is deprecated. In a future version, integer keys will always be treated as labels (consistent with DataFrame behavior). To access a value by position, use `ser.iloc[pos]`\n",
      "  fall_of_extent = ((data['60ma'][i + 1] - data['60ma'][i]) / data['60ma'][i]) * 100\n"
     ]
    },
    {
     "name": "stdout",
     "output_type": "stream",
     "text": [
      "length of fall list 5463\n",
      "Saved file: C:/MY_PROJECTS/market_wide_scan/op_files/ACC.csv\n",
      "length of data is 5465\n",
      "length of weekly prices 1149\n"
     ]
    },
    {
     "name": "stderr",
     "output_type": "stream",
     "text": [
      "C:\\Users\\TUF GAMING\\AppData\\Local\\Temp\\ipykernel_19796\\1835136729.py:31: FutureWarning: Series.__getitem__ treating keys as positions is deprecated. In a future version, integer keys will always be treated as labels (consistent with DataFrame behavior). To access a value by position, use `ser.iloc[pos]`\n",
      "  fall_of_extent = ((data['60ma'][i + 1] - data['60ma'][i]) / data['60ma'][i]) * 100\n"
     ]
    },
    {
     "name": "stdout",
     "output_type": "stream",
     "text": [
      "length of fall list 5465\n",
      "Saved file: C:/MY_PROJECTS/market_wide_scan/op_files/ADANIENT.csv\n",
      "length of data is 1490\n",
      "length of weekly prices 316\n",
      "length of fall list 1490\n",
      "Saved file: C:/MY_PROJECTS/market_wide_scan/op_files/ADANIGREEN.csv\n",
      "length of data is 4089\n",
      "length of weekly prices 867\n"
     ]
    },
    {
     "name": "stderr",
     "output_type": "stream",
     "text": [
      "C:\\Users\\TUF GAMING\\AppData\\Local\\Temp\\ipykernel_19796\\1835136729.py:31: FutureWarning: Series.__getitem__ treating keys as positions is deprecated. In a future version, integer keys will always be treated as labels (consistent with DataFrame behavior). To access a value by position, use `ser.iloc[pos]`\n",
      "  fall_of_extent = ((data['60ma'][i + 1] - data['60ma'][i]) / data['60ma'][i]) * 100\n",
      "C:\\Users\\TUF GAMING\\AppData\\Local\\Temp\\ipykernel_19796\\1835136729.py:31: FutureWarning: Series.__getitem__ treating keys as positions is deprecated. In a future version, integer keys will always be treated as labels (consistent with DataFrame behavior). To access a value by position, use `ser.iloc[pos]`\n",
      "  fall_of_extent = ((data['60ma'][i + 1] - data['60ma'][i]) / data['60ma'][i]) * 100\n"
     ]
    },
    {
     "name": "stdout",
     "output_type": "stream",
     "text": [
      "length of fall list 4089\n",
      "Saved file: C:/MY_PROJECTS/market_wide_scan/op_files/ADANIPORTS.csv\n",
      "length of data is 3666\n",
      "length of weekly prices 777\n"
     ]
    },
    {
     "name": "stderr",
     "output_type": "stream",
     "text": [
      "C:\\Users\\TUF GAMING\\AppData\\Local\\Temp\\ipykernel_19796\\1835136729.py:31: FutureWarning: Series.__getitem__ treating keys as positions is deprecated. In a future version, integer keys will always be treated as labels (consistent with DataFrame behavior). To access a value by position, use `ser.iloc[pos]`\n",
      "  fall_of_extent = ((data['60ma'][i + 1] - data['60ma'][i]) / data['60ma'][i]) * 100\n"
     ]
    },
    {
     "name": "stdout",
     "output_type": "stream",
     "text": [
      "length of fall list 3666\n",
      "Saved file: C:/MY_PROJECTS/market_wide_scan/op_files/ADANIPOWER.csv\n",
      "length of data is 0\n",
      "length of weekly prices 0\n",
      "length of fall list 1\n",
      "Saved file: C:/MY_PROJECTS/market_wide_scan/op_files/ADANITRANS.csv\n",
      "length of data is 2103\n",
      "length of weekly prices 446\n",
      "length of fall list 2103\n",
      "Saved file: C:/MY_PROJECTS/market_wide_scan/op_files/ALKEM.csv\n"
     ]
    },
    {
     "name": "stderr",
     "output_type": "stream",
     "text": [
      "C:\\Users\\TUF GAMING\\AppData\\Local\\Temp\\ipykernel_19796\\1835136729.py:31: FutureWarning: Series.__getitem__ treating keys as positions is deprecated. In a future version, integer keys will always be treated as labels (consistent with DataFrame behavior). To access a value by position, use `ser.iloc[pos]`\n",
      "  fall_of_extent = ((data['60ma'][i + 1] - data['60ma'][i]) / data['60ma'][i]) * 100\n",
      "C:\\Users\\TUF GAMING\\AppData\\Local\\Temp\\ipykernel_19796\\1835136729.py:31: FutureWarning: Series.__getitem__ treating keys as positions is deprecated. In a future version, integer keys will always be treated as labels (consistent with DataFrame behavior). To access a value by position, use `ser.iloc[pos]`\n",
      "  fall_of_extent = ((data['60ma'][i + 1] - data['60ma'][i]) / data['60ma'][i]) * 100\n"
     ]
    },
    {
     "name": "stdout",
     "output_type": "stream",
     "text": [
      "length of data is 5464\n",
      "length of weekly prices 1149\n",
      "length of fall list 5464\n",
      "Saved file: C:/MY_PROJECTS/market_wide_scan/op_files/AMBUJACEM.csv\n",
      "length of data is 5463\n",
      "length of weekly prices 1149\n"
     ]
    },
    {
     "name": "stderr",
     "output_type": "stream",
     "text": [
      "C:\\Users\\TUF GAMING\\AppData\\Local\\Temp\\ipykernel_19796\\1835136729.py:31: FutureWarning: Series.__getitem__ treating keys as positions is deprecated. In a future version, integer keys will always be treated as labels (consistent with DataFrame behavior). To access a value by position, use `ser.iloc[pos]`\n",
      "  fall_of_extent = ((data['60ma'][i + 1] - data['60ma'][i]) / data['60ma'][i]) * 100\n"
     ]
    },
    {
     "name": "stdout",
     "output_type": "stream",
     "text": [
      "length of fall list 5463\n",
      "Saved file: C:/MY_PROJECTS/market_wide_scan/op_files/APOLLOHOSP.csv\n",
      "length of data is 5595\n",
      "length of weekly prices 1175\n"
     ]
    },
    {
     "name": "stderr",
     "output_type": "stream",
     "text": [
      "C:\\Users\\TUF GAMING\\AppData\\Local\\Temp\\ipykernel_19796\\1835136729.py:31: FutureWarning: Series.__getitem__ treating keys as positions is deprecated. In a future version, integer keys will always be treated as labels (consistent with DataFrame behavior). To access a value by position, use `ser.iloc[pos]`\n",
      "  fall_of_extent = ((data['60ma'][i + 1] - data['60ma'][i]) / data['60ma'][i]) * 100\n"
     ]
    },
    {
     "name": "stdout",
     "output_type": "stream",
     "text": [
      "length of fall list 5595\n",
      "Saved file: C:/MY_PROJECTS/market_wide_scan/op_files/APOLLOTYRE.csv\n",
      "length of data is 5465\n",
      "length of weekly prices 1149\n"
     ]
    },
    {
     "name": "stderr",
     "output_type": "stream",
     "text": [
      "C:\\Users\\TUF GAMING\\AppData\\Local\\Temp\\ipykernel_19796\\1835136729.py:31: FutureWarning: Series.__getitem__ treating keys as positions is deprecated. In a future version, integer keys will always be treated as labels (consistent with DataFrame behavior). To access a value by position, use `ser.iloc[pos]`\n",
      "  fall_of_extent = ((data['60ma'][i + 1] - data['60ma'][i]) / data['60ma'][i]) * 100\n"
     ]
    },
    {
     "name": "stdout",
     "output_type": "stream",
     "text": [
      "length of fall list 5465\n",
      "Saved file: C:/MY_PROJECTS/market_wide_scan/op_files/ASHOKLEY.csv\n",
      "length of data is 5463\n",
      "length of weekly prices 1149\n"
     ]
    },
    {
     "name": "stderr",
     "output_type": "stream",
     "text": [
      "C:\\Users\\TUF GAMING\\AppData\\Local\\Temp\\ipykernel_19796\\1835136729.py:31: FutureWarning: Series.__getitem__ treating keys as positions is deprecated. In a future version, integer keys will always be treated as labels (consistent with DataFrame behavior). To access a value by position, use `ser.iloc[pos]`\n",
      "  fall_of_extent = ((data['60ma'][i + 1] - data['60ma'][i]) / data['60ma'][i]) * 100\n"
     ]
    },
    {
     "name": "stdout",
     "output_type": "stream",
     "text": [
      "length of fall list 5463\n",
      "Saved file: C:/MY_PROJECTS/market_wide_scan/op_files/ASIANPAINT.csv\n",
      "length of data is 4262\n",
      "length of weekly prices 903\n"
     ]
    },
    {
     "name": "stderr",
     "output_type": "stream",
     "text": [
      "C:\\Users\\TUF GAMING\\AppData\\Local\\Temp\\ipykernel_19796\\1835136729.py:31: FutureWarning: Series.__getitem__ treating keys as positions is deprecated. In a future version, integer keys will always be treated as labels (consistent with DataFrame behavior). To access a value by position, use `ser.iloc[pos]`\n",
      "  fall_of_extent = ((data['60ma'][i + 1] - data['60ma'][i]) / data['60ma'][i]) * 100\n"
     ]
    },
    {
     "name": "stdout",
     "output_type": "stream",
     "text": [
      "length of fall list 4262\n",
      "Saved file: C:/MY_PROJECTS/market_wide_scan/op_files/ASTRAL.csv\n",
      "length of data is 1396\n",
      "length of weekly prices 296\n",
      "length of fall list 1396\n",
      "Saved file: C:/MY_PROJECTS/market_wide_scan/op_files/ATGL.csv\n",
      "length of data is 1722\n",
      "length of weekly prices 365\n"
     ]
    },
    {
     "name": "stderr",
     "output_type": "stream",
     "text": [
      "C:\\Users\\TUF GAMING\\AppData\\Local\\Temp\\ipykernel_19796\\1835136729.py:31: FutureWarning: Series.__getitem__ treating keys as positions is deprecated. In a future version, integer keys will always be treated as labels (consistent with DataFrame behavior). To access a value by position, use `ser.iloc[pos]`\n",
      "  fall_of_extent = ((data['60ma'][i + 1] - data['60ma'][i]) / data['60ma'][i]) * 100\n",
      "C:\\Users\\TUF GAMING\\AppData\\Local\\Temp\\ipykernel_19796\\1835136729.py:31: FutureWarning: Series.__getitem__ treating keys as positions is deprecated. In a future version, integer keys will always be treated as labels (consistent with DataFrame behavior). To access a value by position, use `ser.iloc[pos]`\n",
      "  fall_of_extent = ((data['60ma'][i + 1] - data['60ma'][i]) / data['60ma'][i]) * 100\n"
     ]
    },
    {
     "name": "stdout",
     "output_type": "stream",
     "text": [
      "length of fall list 1722\n",
      "Saved file: C:/MY_PROJECTS/market_wide_scan/op_files/AUBANK.csv\n",
      "length of data is 7149\n",
      "length of weekly prices 1486\n"
     ]
    },
    {
     "name": "stderr",
     "output_type": "stream",
     "text": [
      "C:\\Users\\TUF GAMING\\AppData\\Local\\Temp\\ipykernel_19796\\1835136729.py:31: FutureWarning: Series.__getitem__ treating keys as positions is deprecated. In a future version, integer keys will always be treated as labels (consistent with DataFrame behavior). To access a value by position, use `ser.iloc[pos]`\n",
      "  fall_of_extent = ((data['60ma'][i + 1] - data['60ma'][i]) / data['60ma'][i]) * 100\n"
     ]
    },
    {
     "name": "stdout",
     "output_type": "stream",
     "text": [
      "length of fall list 7149\n",
      "Saved file: C:/MY_PROJECTS/market_wide_scan/op_files/AUROPHARMA.csv\n",
      "length of data is 591\n",
      "length of weekly prices 126\n",
      "length of fall list 591\n",
      "Saved file: C:/MY_PROJECTS/market_wide_scan/op_files/AWL.csv\n",
      "length of data is 6399\n",
      "length of weekly prices 1337\n"
     ]
    },
    {
     "name": "stderr",
     "output_type": "stream",
     "text": [
      "C:\\Users\\TUF GAMING\\AppData\\Local\\Temp\\ipykernel_19796\\1835136729.py:31: FutureWarning: Series.__getitem__ treating keys as positions is deprecated. In a future version, integer keys will always be treated as labels (consistent with DataFrame behavior). To access a value by position, use `ser.iloc[pos]`\n",
      "  fall_of_extent = ((data['60ma'][i + 1] - data['60ma'][i]) / data['60ma'][i]) * 100\n",
      "C:\\Users\\TUF GAMING\\AppData\\Local\\Temp\\ipykernel_19796\\1835136729.py:31: FutureWarning: Series.__getitem__ treating keys as positions is deprecated. In a future version, integer keys will always be treated as labels (consistent with DataFrame behavior). To access a value by position, use `ser.iloc[pos]`\n",
      "  fall_of_extent = ((data['60ma'][i + 1] - data['60ma'][i]) / data['60ma'][i]) * 100\n"
     ]
    },
    {
     "name": "stdout",
     "output_type": "stream",
     "text": [
      "length of fall list 6399\n",
      "Saved file: C:/MY_PROJECTS/market_wide_scan/op_files/AXISBANK.csv\n",
      "length of data is 5466\n",
      "length of weekly prices 1149\n"
     ]
    },
    {
     "name": "stderr",
     "output_type": "stream",
     "text": [
      "C:\\Users\\TUF GAMING\\AppData\\Local\\Temp\\ipykernel_19796\\1835136729.py:31: FutureWarning: Series.__getitem__ treating keys as positions is deprecated. In a future version, integer keys will always be treated as labels (consistent with DataFrame behavior). To access a value by position, use `ser.iloc[pos]`\n",
      "  fall_of_extent = ((data['60ma'][i + 1] - data['60ma'][i]) / data['60ma'][i]) * 100\n"
     ]
    },
    {
     "name": "stdout",
     "output_type": "stream",
     "text": [
      "length of fall list 5466\n",
      "Saved file: C:/MY_PROJECTS/market_wide_scan/op_files/BAJAJ-AUTO.csv\n",
      "length of data is 5432\n",
      "length of weekly prices 1143\n"
     ]
    },
    {
     "name": "stderr",
     "output_type": "stream",
     "text": [
      "C:\\Users\\TUF GAMING\\AppData\\Local\\Temp\\ipykernel_19796\\1835136729.py:31: FutureWarning: Series.__getitem__ treating keys as positions is deprecated. In a future version, integer keys will always be treated as labels (consistent with DataFrame behavior). To access a value by position, use `ser.iloc[pos]`\n",
      "  fall_of_extent = ((data['60ma'][i + 1] - data['60ma'][i]) / data['60ma'][i]) * 100\n"
     ]
    },
    {
     "name": "stdout",
     "output_type": "stream",
     "text": [
      "length of fall list 5432\n",
      "Saved file: C:/MY_PROJECTS/market_wide_scan/op_files/BAJAJFINSV.csv\n",
      "length of data is 5431\n",
      "length of weekly prices 1143\n"
     ]
    },
    {
     "name": "stderr",
     "output_type": "stream",
     "text": [
      "C:\\Users\\TUF GAMING\\AppData\\Local\\Temp\\ipykernel_19796\\1835136729.py:31: FutureWarning: Series.__getitem__ treating keys as positions is deprecated. In a future version, integer keys will always be treated as labels (consistent with DataFrame behavior). To access a value by position, use `ser.iloc[pos]`\n",
      "  fall_of_extent = ((data['60ma'][i + 1] - data['60ma'][i]) / data['60ma'][i]) * 100\n"
     ]
    },
    {
     "name": "stdout",
     "output_type": "stream",
     "text": [
      "length of fall list 5431\n",
      "Saved file: C:/MY_PROJECTS/market_wide_scan/op_files/BAJAJHLDNG.csv\n",
      "length of data is 5463\n",
      "length of weekly prices 1149\n"
     ]
    },
    {
     "name": "stderr",
     "output_type": "stream",
     "text": [
      "C:\\Users\\TUF GAMING\\AppData\\Local\\Temp\\ipykernel_19796\\1835136729.py:31: FutureWarning: Series.__getitem__ treating keys as positions is deprecated. In a future version, integer keys will always be treated as labels (consistent with DataFrame behavior). To access a value by position, use `ser.iloc[pos]`\n",
      "  fall_of_extent = ((data['60ma'][i + 1] - data['60ma'][i]) / data['60ma'][i]) * 100\n"
     ]
    },
    {
     "name": "stdout",
     "output_type": "stream",
     "text": [
      "length of fall list 5463\n",
      "Saved file: C:/MY_PROJECTS/market_wide_scan/op_files/BAJFINANCE.csv\n",
      "length of data is 4544\n",
      "length of weekly prices 963\n"
     ]
    },
    {
     "name": "stderr",
     "output_type": "stream",
     "text": [
      "C:\\Users\\TUF GAMING\\AppData\\Local\\Temp\\ipykernel_19796\\1835136729.py:31: FutureWarning: Series.__getitem__ treating keys as positions is deprecated. In a future version, integer keys will always be treated as labels (consistent with DataFrame behavior). To access a value by position, use `ser.iloc[pos]`\n",
      "  fall_of_extent = ((data['60ma'][i + 1] - data['60ma'][i]) / data['60ma'][i]) * 100\n"
     ]
    },
    {
     "name": "stdout",
     "output_type": "stream",
     "text": [
      "length of fall list 4544\n",
      "Saved file: C:/MY_PROJECTS/market_wide_scan/op_files/BALKRISIND.csv\n",
      "length of data is 1546\n",
      "length of weekly prices 328\n",
      "length of fall list 1546\n",
      "Saved file: C:/MY_PROJECTS/market_wide_scan/op_files/BANDHANBNK.csv\n",
      "length of data is 5463\n"
     ]
    },
    {
     "name": "stderr",
     "output_type": "stream",
     "text": [
      "C:\\Users\\TUF GAMING\\AppData\\Local\\Temp\\ipykernel_19796\\1835136729.py:31: FutureWarning: Series.__getitem__ treating keys as positions is deprecated. In a future version, integer keys will always be treated as labels (consistent with DataFrame behavior). To access a value by position, use `ser.iloc[pos]`\n",
      "  fall_of_extent = ((data['60ma'][i + 1] - data['60ma'][i]) / data['60ma'][i]) * 100\n",
      "C:\\Users\\TUF GAMING\\AppData\\Local\\Temp\\ipykernel_19796\\1835136729.py:31: FutureWarning: Series.__getitem__ treating keys as positions is deprecated. In a future version, integer keys will always be treated as labels (consistent with DataFrame behavior). To access a value by position, use `ser.iloc[pos]`\n",
      "  fall_of_extent = ((data['60ma'][i + 1] - data['60ma'][i]) / data['60ma'][i]) * 100\n"
     ]
    },
    {
     "name": "stdout",
     "output_type": "stream",
     "text": [
      "length of weekly prices 1149\n",
      "length of fall list 5463\n",
      "Saved file: C:/MY_PROJECTS/market_wide_scan/op_files/BANKBARODA.csv\n",
      "length of data is 5463\n",
      "length of weekly prices 1149\n"
     ]
    },
    {
     "name": "stderr",
     "output_type": "stream",
     "text": [
      "C:\\Users\\TUF GAMING\\AppData\\Local\\Temp\\ipykernel_19796\\1835136729.py:31: FutureWarning: Series.__getitem__ treating keys as positions is deprecated. In a future version, integer keys will always be treated as labels (consistent with DataFrame behavior). To access a value by position, use `ser.iloc[pos]`\n",
      "  fall_of_extent = ((data['60ma'][i + 1] - data['60ma'][i]) / data['60ma'][i]) * 100\n"
     ]
    },
    {
     "name": "stdout",
     "output_type": "stream",
     "text": [
      "length of fall list 5463\n",
      "Saved file: C:/MY_PROJECTS/market_wide_scan/op_files/BANKINDIA.csv\n",
      "length of data is 5463\n",
      "length of weekly prices 1149\n"
     ]
    },
    {
     "name": "stderr",
     "output_type": "stream",
     "text": [
      "C:\\Users\\TUF GAMING\\AppData\\Local\\Temp\\ipykernel_19796\\1835136729.py:31: FutureWarning: Series.__getitem__ treating keys as positions is deprecated. In a future version, integer keys will always be treated as labels (consistent with DataFrame behavior). To access a value by position, use `ser.iloc[pos]`\n",
      "  fall_of_extent = ((data['60ma'][i + 1] - data['60ma'][i]) / data['60ma'][i]) * 100\n"
     ]
    },
    {
     "name": "stdout",
     "output_type": "stream",
     "text": [
      "length of fall list 5463\n",
      "Saved file: C:/MY_PROJECTS/market_wide_scan/op_files/BATAINDIA.csv\n",
      "length of data is 5463\n",
      "length of weekly prices 1149\n"
     ]
    },
    {
     "name": "stderr",
     "output_type": "stream",
     "text": [
      "C:\\Users\\TUF GAMING\\AppData\\Local\\Temp\\ipykernel_19796\\1835136729.py:31: FutureWarning: Series.__getitem__ treating keys as positions is deprecated. In a future version, integer keys will always be treated as labels (consistent with DataFrame behavior). To access a value by position, use `ser.iloc[pos]`\n",
      "  fall_of_extent = ((data['60ma'][i + 1] - data['60ma'][i]) / data['60ma'][i]) * 100\n"
     ]
    },
    {
     "name": "stdout",
     "output_type": "stream",
     "text": [
      "length of fall list 5463\n",
      "Saved file: C:/MY_PROJECTS/market_wide_scan/op_files/BEL.csv\n",
      "length of data is 5465\n",
      "length of weekly prices 1149\n"
     ]
    },
    {
     "name": "stderr",
     "output_type": "stream",
     "text": [
      "C:\\Users\\TUF GAMING\\AppData\\Local\\Temp\\ipykernel_19796\\1835136729.py:31: FutureWarning: Series.__getitem__ treating keys as positions is deprecated. In a future version, integer keys will always be treated as labels (consistent with DataFrame behavior). To access a value by position, use `ser.iloc[pos]`\n",
      "  fall_of_extent = ((data['60ma'][i + 1] - data['60ma'][i]) / data['60ma'][i]) * 100\n"
     ]
    },
    {
     "name": "stdout",
     "output_type": "stream",
     "text": [
      "length of fall list 5465\n",
      "Saved file: C:/MY_PROJECTS/market_wide_scan/op_files/BERGEPAINT.csv\n",
      "length of data is 7158\n",
      "length of weekly prices 1488\n"
     ]
    },
    {
     "name": "stderr",
     "output_type": "stream",
     "text": [
      "C:\\Users\\TUF GAMING\\AppData\\Local\\Temp\\ipykernel_19796\\1835136729.py:31: FutureWarning: Series.__getitem__ treating keys as positions is deprecated. In a future version, integer keys will always be treated as labels (consistent with DataFrame behavior). To access a value by position, use `ser.iloc[pos]`\n",
      "  fall_of_extent = ((data['60ma'][i + 1] - data['60ma'][i]) / data['60ma'][i]) * 100\n"
     ]
    },
    {
     "name": "stdout",
     "output_type": "stream",
     "text": [
      "length of fall list 7158\n",
      "Saved file: C:/MY_PROJECTS/market_wide_scan/op_files/BHARATFORG.csv\n",
      "length of data is 5463\n",
      "length of weekly prices 1149\n"
     ]
    },
    {
     "name": "stderr",
     "output_type": "stream",
     "text": [
      "C:\\Users\\TUF GAMING\\AppData\\Local\\Temp\\ipykernel_19796\\1835136729.py:31: FutureWarning: Series.__getitem__ treating keys as positions is deprecated. In a future version, integer keys will always be treated as labels (consistent with DataFrame behavior). To access a value by position, use `ser.iloc[pos]`\n",
      "  fall_of_extent = ((data['60ma'][i + 1] - data['60ma'][i]) / data['60ma'][i]) * 100\n"
     ]
    },
    {
     "name": "stdout",
     "output_type": "stream",
     "text": [
      "length of fall list 5463\n",
      "Saved file: C:/MY_PROJECTS/market_wide_scan/op_files/BHARTIARTL.csv\n",
      "length of data is 7158\n",
      "length of weekly prices 1488\n"
     ]
    },
    {
     "name": "stderr",
     "output_type": "stream",
     "text": [
      "C:\\Users\\TUF GAMING\\AppData\\Local\\Temp\\ipykernel_19796\\1835136729.py:31: FutureWarning: Series.__getitem__ treating keys as positions is deprecated. In a future version, integer keys will always be treated as labels (consistent with DataFrame behavior). To access a value by position, use `ser.iloc[pos]`\n",
      "  fall_of_extent = ((data['60ma'][i + 1] - data['60ma'][i]) / data['60ma'][i]) * 100\n"
     ]
    },
    {
     "name": "stdout",
     "output_type": "stream",
     "text": [
      "length of fall list 7158\n",
      "Saved file: C:/MY_PROJECTS/market_wide_scan/op_files/BHEL.csv\n",
      "length of data is 5002\n",
      "length of weekly prices 1057\n"
     ]
    },
    {
     "name": "stderr",
     "output_type": "stream",
     "text": [
      "C:\\Users\\TUF GAMING\\AppData\\Local\\Temp\\ipykernel_19796\\1835136729.py:31: FutureWarning: Series.__getitem__ treating keys as positions is deprecated. In a future version, integer keys will always be treated as labels (consistent with DataFrame behavior). To access a value by position, use `ser.iloc[pos]`\n",
      "  fall_of_extent = ((data['60ma'][i + 1] - data['60ma'][i]) / data['60ma'][i]) * 100\n"
     ]
    },
    {
     "name": "stdout",
     "output_type": "stream",
     "text": [
      "length of fall list 5002\n",
      "Saved file: C:/MY_PROJECTS/market_wide_scan/op_files/BIOCON.csv\n",
      "length of data is 5465\n",
      "length of weekly prices 1149\n"
     ]
    },
    {
     "name": "stderr",
     "output_type": "stream",
     "text": [
      "C:\\Users\\TUF GAMING\\AppData\\Local\\Temp\\ipykernel_19796\\1835136729.py:31: FutureWarning: Series.__getitem__ treating keys as positions is deprecated. In a future version, integer keys will always be treated as labels (consistent with DataFrame behavior). To access a value by position, use `ser.iloc[pos]`\n",
      "  fall_of_extent = ((data['60ma'][i + 1] - data['60ma'][i]) / data['60ma'][i]) * 100\n"
     ]
    },
    {
     "name": "stdout",
     "output_type": "stream",
     "text": [
      "length of fall list 5465\n",
      "Saved file: C:/MY_PROJECTS/market_wide_scan/op_files/BOSCHLTD.csv\n",
      "length of data is 7157\n",
      "length of weekly prices 1488\n"
     ]
    },
    {
     "name": "stderr",
     "output_type": "stream",
     "text": [
      "C:\\Users\\TUF GAMING\\AppData\\Local\\Temp\\ipykernel_19796\\1835136729.py:31: FutureWarning: Series.__getitem__ treating keys as positions is deprecated. In a future version, integer keys will always be treated as labels (consistent with DataFrame behavior). To access a value by position, use `ser.iloc[pos]`\n",
      "  fall_of_extent = ((data['60ma'][i + 1] - data['60ma'][i]) / data['60ma'][i]) * 100\n"
     ]
    },
    {
     "name": "stdout",
     "output_type": "stream",
     "text": [
      "length of fall list 7157\n",
      "Saved file: C:/MY_PROJECTS/market_wide_scan/op_files/BPCL.csv\n",
      "length of data is 7159\n",
      "length of weekly prices 1488\n"
     ]
    },
    {
     "name": "stderr",
     "output_type": "stream",
     "text": [
      "C:\\Users\\TUF GAMING\\AppData\\Local\\Temp\\ipykernel_19796\\1835136729.py:31: FutureWarning: Series.__getitem__ treating keys as positions is deprecated. In a future version, integer keys will always be treated as labels (consistent with DataFrame behavior). To access a value by position, use `ser.iloc[pos]`\n",
      "  fall_of_extent = ((data['60ma'][i + 1] - data['60ma'][i]) / data['60ma'][i]) * 100\n"
     ]
    },
    {
     "name": "stdout",
     "output_type": "stream",
     "text": [
      "length of fall list 7159\n",
      "Saved file: C:/MY_PROJECTS/market_wide_scan/op_files/BRITANNIA.csv\n",
      "length of data is 5338\n",
      "length of weekly prices 1124\n"
     ]
    },
    {
     "name": "stderr",
     "output_type": "stream",
     "text": [
      "C:\\Users\\TUF GAMING\\AppData\\Local\\Temp\\ipykernel_19796\\1835136729.py:31: FutureWarning: Series.__getitem__ treating keys as positions is deprecated. In a future version, integer keys will always be treated as labels (consistent with DataFrame behavior). To access a value by position, use `ser.iloc[pos]`\n",
      "  fall_of_extent = ((data['60ma'][i + 1] - data['60ma'][i]) / data['60ma'][i]) * 100\n"
     ]
    },
    {
     "name": "stdout",
     "output_type": "stream",
     "text": [
      "length of fall list 5338\n",
      "Saved file: C:/MY_PROJECTS/market_wide_scan/op_files/CANBK.csv\n",
      "length of data is 5466\n",
      "length of weekly prices 1149\n"
     ]
    },
    {
     "name": "stderr",
     "output_type": "stream",
     "text": [
      "C:\\Users\\TUF GAMING\\AppData\\Local\\Temp\\ipykernel_19796\\1835136729.py:31: FutureWarning: Series.__getitem__ treating keys as positions is deprecated. In a future version, integer keys will always be treated as labels (consistent with DataFrame behavior). To access a value by position, use `ser.iloc[pos]`\n",
      "  fall_of_extent = ((data['60ma'][i + 1] - data['60ma'][i]) / data['60ma'][i]) * 100\n"
     ]
    },
    {
     "name": "stdout",
     "output_type": "stream",
     "text": [
      "length of fall list 5466\n",
      "Saved file: C:/MY_PROJECTS/market_wide_scan/op_files/CGPOWER.csv\n",
      "length of data is 5463\n",
      "length of weekly prices 1149\n"
     ]
    },
    {
     "name": "stderr",
     "output_type": "stream",
     "text": [
      "C:\\Users\\TUF GAMING\\AppData\\Local\\Temp\\ipykernel_19796\\1835136729.py:31: FutureWarning: Series.__getitem__ treating keys as positions is deprecated. In a future version, integer keys will always be treated as labels (consistent with DataFrame behavior). To access a value by position, use `ser.iloc[pos]`\n",
      "  fall_of_extent = ((data['60ma'][i + 1] - data['60ma'][i]) / data['60ma'][i]) * 100\n"
     ]
    },
    {
     "name": "stdout",
     "output_type": "stream",
     "text": [
      "length of fall list 5463\n",
      "Saved file: C:/MY_PROJECTS/market_wide_scan/op_files/CHOLAFIN.csv\n",
      "length of data is 7160\n",
      "length of weekly prices 1488\n"
     ]
    },
    {
     "name": "stderr",
     "output_type": "stream",
     "text": [
      "C:\\Users\\TUF GAMING\\AppData\\Local\\Temp\\ipykernel_19796\\1835136729.py:31: FutureWarning: Series.__getitem__ treating keys as positions is deprecated. In a future version, integer keys will always be treated as labels (consistent with DataFrame behavior). To access a value by position, use `ser.iloc[pos]`\n",
      "  fall_of_extent = ((data['60ma'][i + 1] - data['60ma'][i]) / data['60ma'][i]) * 100\n"
     ]
    },
    {
     "name": "stdout",
     "output_type": "stream",
     "text": [
      "length of fall list 7160\n",
      "Saved file: C:/MY_PROJECTS/market_wide_scan/op_files/CIPLA.csv\n",
      "length of data is 3366\n",
      "length of weekly prices 714\n"
     ]
    },
    {
     "name": "stderr",
     "output_type": "stream",
     "text": [
      "C:\\Users\\TUF GAMING\\AppData\\Local\\Temp\\ipykernel_19796\\1835136729.py:31: FutureWarning: Series.__getitem__ treating keys as positions is deprecated. In a future version, integer keys will always be treated as labels (consistent with DataFrame behavior). To access a value by position, use `ser.iloc[pos]`\n",
      "  fall_of_extent = ((data['60ma'][i + 1] - data['60ma'][i]) / data['60ma'][i]) * 100\n",
      "C:\\Users\\TUF GAMING\\AppData\\Local\\Temp\\ipykernel_19796\\1835136729.py:31: FutureWarning: Series.__getitem__ treating keys as positions is deprecated. In a future version, integer keys will always be treated as labels (consistent with DataFrame behavior). To access a value by position, use `ser.iloc[pos]`\n",
      "  fall_of_extent = ((data['60ma'][i + 1] - data['60ma'][i]) / data['60ma'][i]) * 100\n"
     ]
    },
    {
     "name": "stdout",
     "output_type": "stream",
     "text": [
      "length of fall list 3366\n",
      "Saved file: C:/MY_PROJECTS/market_wide_scan/op_files/COALINDIA.csv\n",
      "length of data is 4901\n",
      "length of weekly prices 1036\n",
      "length of fall list 4901\n",
      "Saved file: C:/MY_PROJECTS/market_wide_scan/op_files/COFORGE.csv\n",
      "length of data is 5466\n",
      "length of weekly prices 1149\n"
     ]
    },
    {
     "name": "stderr",
     "output_type": "stream",
     "text": [
      "C:\\Users\\TUF GAMING\\AppData\\Local\\Temp\\ipykernel_19796\\1835136729.py:31: FutureWarning: Series.__getitem__ treating keys as positions is deprecated. In a future version, integer keys will always be treated as labels (consistent with DataFrame behavior). To access a value by position, use `ser.iloc[pos]`\n",
      "  fall_of_extent = ((data['60ma'][i + 1] - data['60ma'][i]) / data['60ma'][i]) * 100\n"
     ]
    },
    {
     "name": "stdout",
     "output_type": "stream",
     "text": [
      "length of fall list 5466\n",
      "Saved file: C:/MY_PROJECTS/market_wide_scan/op_files/COLPAL.csv\n",
      "length of data is 5463\n",
      "length of weekly prices 1149\n"
     ]
    },
    {
     "name": "stderr",
     "output_type": "stream",
     "text": [
      "C:\\Users\\TUF GAMING\\AppData\\Local\\Temp\\ipykernel_19796\\1835136729.py:31: FutureWarning: Series.__getitem__ treating keys as positions is deprecated. In a future version, integer keys will always be treated as labels (consistent with DataFrame behavior). To access a value by position, use `ser.iloc[pos]`\n",
      "  fall_of_extent = ((data['60ma'][i + 1] - data['60ma'][i]) / data['60ma'][i]) * 100\n"
     ]
    },
    {
     "name": "stdout",
     "output_type": "stream",
     "text": [
      "length of fall list 5463\n",
      "Saved file: C:/MY_PROJECTS/market_wide_scan/op_files/CONCOR.csv\n",
      "length of data is 5436\n",
      "length of weekly prices 1143\n"
     ]
    },
    {
     "name": "stderr",
     "output_type": "stream",
     "text": [
      "C:\\Users\\TUF GAMING\\AppData\\Local\\Temp\\ipykernel_19796\\1835136729.py:31: FutureWarning: Series.__getitem__ treating keys as positions is deprecated. In a future version, integer keys will always be treated as labels (consistent with DataFrame behavior). To access a value by position, use `ser.iloc[pos]`\n",
      "  fall_of_extent = ((data['60ma'][i + 1] - data['60ma'][i]) / data['60ma'][i]) * 100\n"
     ]
    },
    {
     "name": "stdout",
     "output_type": "stream",
     "text": [
      "length of fall list 5436\n",
      "Saved file: C:/MY_PROJECTS/market_wide_scan/op_files/COROMANDEL.csv\n",
      "length of data is 2010\n",
      "length of weekly prices 426\n",
      "length of fall list 2010\n",
      "Saved file: C:/MY_PROJECTS/market_wide_scan/op_files/CROMPTON.csv\n",
      "length of data is 5462\n"
     ]
    },
    {
     "name": "stderr",
     "output_type": "stream",
     "text": [
      "C:\\Users\\TUF GAMING\\AppData\\Local\\Temp\\ipykernel_19796\\1835136729.py:31: FutureWarning: Series.__getitem__ treating keys as positions is deprecated. In a future version, integer keys will always be treated as labels (consistent with DataFrame behavior). To access a value by position, use `ser.iloc[pos]`\n",
      "  fall_of_extent = ((data['60ma'][i + 1] - data['60ma'][i]) / data['60ma'][i]) * 100\n",
      "C:\\Users\\TUF GAMING\\AppData\\Local\\Temp\\ipykernel_19796\\1835136729.py:31: FutureWarning: Series.__getitem__ treating keys as positions is deprecated. In a future version, integer keys will always be treated as labels (consistent with DataFrame behavior). To access a value by position, use `ser.iloc[pos]`\n",
      "  fall_of_extent = ((data['60ma'][i + 1] - data['60ma'][i]) / data['60ma'][i]) * 100\n"
     ]
    },
    {
     "name": "stdout",
     "output_type": "stream",
     "text": [
      "length of weekly prices 1149\n",
      "length of fall list 5462\n",
      "Saved file: C:/MY_PROJECTS/market_wide_scan/op_files/CUMMINSIND.csv\n",
      "length of data is 5463\n",
      "length of weekly prices 1149\n"
     ]
    },
    {
     "name": "stderr",
     "output_type": "stream",
     "text": [
      "C:\\Users\\TUF GAMING\\AppData\\Local\\Temp\\ipykernel_19796\\1835136729.py:31: FutureWarning: Series.__getitem__ treating keys as positions is deprecated. In a future version, integer keys will always be treated as labels (consistent with DataFrame behavior). To access a value by position, use `ser.iloc[pos]`\n",
      "  fall_of_extent = ((data['60ma'][i + 1] - data['60ma'][i]) / data['60ma'][i]) * 100\n"
     ]
    },
    {
     "name": "stdout",
     "output_type": "stream",
     "text": [
      "length of fall list 5463\n",
      "Saved file: C:/MY_PROJECTS/market_wide_scan/op_files/DABUR.csv\n",
      "length of data is 1364\n",
      "length of weekly prices 290\n",
      "length of fall list 1364\n",
      "Saved file: C:/MY_PROJECTS/market_wide_scan/op_files/DALBHARAT.csv\n",
      "length of data is 3392\n",
      "length of weekly prices 719\n"
     ]
    },
    {
     "name": "stderr",
     "output_type": "stream",
     "text": [
      "C:\\Users\\TUF GAMING\\AppData\\Local\\Temp\\ipykernel_19796\\1835136729.py:31: FutureWarning: Series.__getitem__ treating keys as positions is deprecated. In a future version, integer keys will always be treated as labels (consistent with DataFrame behavior). To access a value by position, use `ser.iloc[pos]`\n",
      "  fall_of_extent = ((data['60ma'][i + 1] - data['60ma'][i]) / data['60ma'][i]) * 100\n",
      "C:\\Users\\TUF GAMING\\AppData\\Local\\Temp\\ipykernel_19796\\1835136729.py:31: FutureWarning: Series.__getitem__ treating keys as positions is deprecated. In a future version, integer keys will always be treated as labels (consistent with DataFrame behavior). To access a value by position, use `ser.iloc[pos]`\n",
      "  fall_of_extent = ((data['60ma'][i + 1] - data['60ma'][i]) / data['60ma'][i]) * 100\n"
     ]
    },
    {
     "name": "stdout",
     "output_type": "stream",
     "text": [
      "length of fall list 3392\n",
      "Saved file: C:/MY_PROJECTS/market_wide_scan/op_files/DEEPAKNTR.csv\n",
      "length of data is 521\n",
      "length of weekly prices 111\n",
      "length of fall list 521\n",
      "Saved file: C:/MY_PROJECTS/market_wide_scan/op_files/DELHIVERY.csv\n",
      "length of data is 711\n",
      "length of weekly prices 151\n",
      "length of fall list 711\n",
      "Saved file: C:/MY_PROJECTS/market_wide_scan/op_files/DEVYANI.csv\n",
      "length of data is 5284\n",
      "length of weekly prices 1113\n"
     ]
    },
    {
     "name": "stderr",
     "output_type": "stream",
     "text": [
      "C:\\Users\\TUF GAMING\\AppData\\Local\\Temp\\ipykernel_19796\\1835136729.py:31: FutureWarning: Series.__getitem__ treating keys as positions is deprecated. In a future version, integer keys will always be treated as labels (consistent with DataFrame behavior). To access a value by position, use `ser.iloc[pos]`\n",
      "  fall_of_extent = ((data['60ma'][i + 1] - data['60ma'][i]) / data['60ma'][i]) * 100\n",
      "C:\\Users\\TUF GAMING\\AppData\\Local\\Temp\\ipykernel_19796\\1835136729.py:31: FutureWarning: Series.__getitem__ treating keys as positions is deprecated. In a future version, integer keys will always be treated as labels (consistent with DataFrame behavior). To access a value by position, use `ser.iloc[pos]`\n",
      "  fall_of_extent = ((data['60ma'][i + 1] - data['60ma'][i]) / data['60ma'][i]) * 100\n",
      "C:\\Users\\TUF GAMING\\AppData\\Local\\Temp\\ipykernel_19796\\1835136729.py:31: FutureWarning: Series.__getitem__ treating keys as positions is deprecated. In a future version, integer keys will always be treated as labels (consistent with DataFrame behavior). To access a value by position, use `ser.iloc[pos]`\n",
      "  fall_of_extent = ((data['60ma'][i + 1] - data['60ma'][i]) / data['60ma'][i]) * 100\n"
     ]
    },
    {
     "name": "stdout",
     "output_type": "stream",
     "text": [
      "length of fall list 5284\n",
      "Saved file: C:/MY_PROJECTS/market_wide_scan/op_files/DIVISLAB.csv\n",
      "length of data is 1676\n",
      "length of weekly prices 355\n",
      "length of fall list 1676\n",
      "Saved file: C:/MY_PROJECTS/market_wide_scan/op_files/DIXON.csv\n",
      "length of data is 4189\n",
      "length of weekly prices 888\n"
     ]
    },
    {
     "name": "stderr",
     "output_type": "stream",
     "text": [
      "C:\\Users\\TUF GAMING\\AppData\\Local\\Temp\\ipykernel_19796\\1835136729.py:31: FutureWarning: Series.__getitem__ treating keys as positions is deprecated. In a future version, integer keys will always be treated as labels (consistent with DataFrame behavior). To access a value by position, use `ser.iloc[pos]`\n",
      "  fall_of_extent = ((data['60ma'][i + 1] - data['60ma'][i]) / data['60ma'][i]) * 100\n",
      "C:\\Users\\TUF GAMING\\AppData\\Local\\Temp\\ipykernel_19796\\1835136729.py:31: FutureWarning: Series.__getitem__ treating keys as positions is deprecated. In a future version, integer keys will always be treated as labels (consistent with DataFrame behavior). To access a value by position, use `ser.iloc[pos]`\n",
      "  fall_of_extent = ((data['60ma'][i + 1] - data['60ma'][i]) / data['60ma'][i]) * 100\n"
     ]
    },
    {
     "name": "stdout",
     "output_type": "stream",
     "text": [
      "length of fall list 4189\n",
      "Saved file: C:/MY_PROJECTS/market_wide_scan/op_files/DLF.csv\n",
      "length of data is 1799\n",
      "length of weekly prices 381\n",
      "length of fall list 1799\n",
      "Saved file: C:/MY_PROJECTS/market_wide_scan/op_files/DMART.csv\n",
      "length of data is 7158\n",
      "length of weekly prices 1488\n"
     ]
    },
    {
     "name": "stderr",
     "output_type": "stream",
     "text": [
      "C:\\Users\\TUF GAMING\\AppData\\Local\\Temp\\ipykernel_19796\\1835136729.py:31: FutureWarning: Series.__getitem__ treating keys as positions is deprecated. In a future version, integer keys will always be treated as labels (consistent with DataFrame behavior). To access a value by position, use `ser.iloc[pos]`\n",
      "  fall_of_extent = ((data['60ma'][i + 1] - data['60ma'][i]) / data['60ma'][i]) * 100\n",
      "C:\\Users\\TUF GAMING\\AppData\\Local\\Temp\\ipykernel_19796\\1835136729.py:31: FutureWarning: Series.__getitem__ treating keys as positions is deprecated. In a future version, integer keys will always be treated as labels (consistent with DataFrame behavior). To access a value by position, use `ser.iloc[pos]`\n",
      "  fall_of_extent = ((data['60ma'][i + 1] - data['60ma'][i]) / data['60ma'][i]) * 100\n"
     ]
    },
    {
     "name": "stdout",
     "output_type": "stream",
     "text": [
      "length of fall list 7158\n",
      "Saved file: C:/MY_PROJECTS/market_wide_scan/op_files/DRREDDY.csv\n",
      "length of data is 7158\n",
      "length of weekly prices 1488\n"
     ]
    },
    {
     "name": "stderr",
     "output_type": "stream",
     "text": [
      "C:\\Users\\TUF GAMING\\AppData\\Local\\Temp\\ipykernel_19796\\1835136729.py:31: FutureWarning: Series.__getitem__ treating keys as positions is deprecated. In a future version, integer keys will always be treated as labels (consistent with DataFrame behavior). To access a value by position, use `ser.iloc[pos]`\n",
      "  fall_of_extent = ((data['60ma'][i + 1] - data['60ma'][i]) / data['60ma'][i]) * 100\n"
     ]
    },
    {
     "name": "stdout",
     "output_type": "stream",
     "text": [
      "length of fall list 7158\n",
      "Saved file: C:/MY_PROJECTS/market_wide_scan/op_files/EICHERMOT.csv\n",
      "length of data is 7158\n",
      "length of weekly prices 1488\n"
     ]
    },
    {
     "name": "stderr",
     "output_type": "stream",
     "text": [
      "C:\\Users\\TUF GAMING\\AppData\\Local\\Temp\\ipykernel_19796\\1835136729.py:31: FutureWarning: Series.__getitem__ treating keys as positions is deprecated. In a future version, integer keys will always be treated as labels (consistent with DataFrame behavior). To access a value by position, use `ser.iloc[pos]`\n",
      "  fall_of_extent = ((data['60ma'][i + 1] - data['60ma'][i]) / data['60ma'][i]) * 100\n"
     ]
    },
    {
     "name": "stdout",
     "output_type": "stream",
     "text": [
      "length of fall list 7158\n",
      "Saved file: C:/MY_PROJECTS/market_wide_scan/op_files/ESCORTS.csv\n",
      "length of data is 7160\n",
      "length of weekly prices 1488\n"
     ]
    },
    {
     "name": "stderr",
     "output_type": "stream",
     "text": [
      "C:\\Users\\TUF GAMING\\AppData\\Local\\Temp\\ipykernel_19796\\1835136729.py:31: FutureWarning: Series.__getitem__ treating keys as positions is deprecated. In a future version, integer keys will always be treated as labels (consistent with DataFrame behavior). To access a value by position, use `ser.iloc[pos]`\n",
      "  fall_of_extent = ((data['60ma'][i + 1] - data['60ma'][i]) / data['60ma'][i]) * 100\n"
     ]
    },
    {
     "name": "stdout",
     "output_type": "stream",
     "text": [
      "length of fall list 7160\n",
      "Saved file: C:/MY_PROJECTS/market_wide_scan/op_files/FEDERALBNK.csv\n",
      "length of data is 1167\n",
      "length of weekly prices 247\n",
      "length of fall list 1167\n",
      "Saved file: C:/MY_PROJECTS/market_wide_scan/op_files/FLUOROCHEM.csv\n",
      "length of data is 4230\n",
      "length of weekly prices 896\n"
     ]
    },
    {
     "name": "stderr",
     "output_type": "stream",
     "text": [
      "C:\\Users\\TUF GAMING\\AppData\\Local\\Temp\\ipykernel_19796\\1835136729.py:31: FutureWarning: Series.__getitem__ treating keys as positions is deprecated. In a future version, integer keys will always be treated as labels (consistent with DataFrame behavior). To access a value by position, use `ser.iloc[pos]`\n",
      "  fall_of_extent = ((data['60ma'][i + 1] - data['60ma'][i]) / data['60ma'][i]) * 100\n",
      "C:\\Users\\TUF GAMING\\AppData\\Local\\Temp\\ipykernel_19796\\1835136729.py:31: FutureWarning: Series.__getitem__ treating keys as positions is deprecated. In a future version, integer keys will always be treated as labels (consistent with DataFrame behavior). To access a value by position, use `ser.iloc[pos]`\n",
      "  fall_of_extent = ((data['60ma'][i + 1] - data['60ma'][i]) / data['60ma'][i]) * 100\n"
     ]
    },
    {
     "name": "stdout",
     "output_type": "stream",
     "text": [
      "length of fall list 4230\n",
      "Saved file: C:/MY_PROJECTS/market_wide_scan/op_files/FORTIS.csv\n",
      "length of data is 6831\n",
      "length of weekly prices 1423\n"
     ]
    },
    {
     "name": "stderr",
     "output_type": "stream",
     "text": [
      "C:\\Users\\TUF GAMING\\AppData\\Local\\Temp\\ipykernel_19796\\1835136729.py:31: FutureWarning: Series.__getitem__ treating keys as positions is deprecated. In a future version, integer keys will always be treated as labels (consistent with DataFrame behavior). To access a value by position, use `ser.iloc[pos]`\n",
      "  fall_of_extent = ((data['60ma'][i + 1] - data['60ma'][i]) / data['60ma'][i]) * 100\n"
     ]
    },
    {
     "name": "stdout",
     "output_type": "stream",
     "text": [
      "length of fall list 6831\n",
      "Saved file: C:/MY_PROJECTS/market_wide_scan/op_files/GAIL.csv\n",
      "length of data is 892\n",
      "length of weekly prices 190\n",
      "length of fall list 892\n",
      "Saved file: C:/MY_PROJECTS/market_wide_scan/op_files/GLAND.csv\n",
      "length of data is 5466\n",
      "length of weekly prices 1149\n"
     ]
    },
    {
     "name": "stderr",
     "output_type": "stream",
     "text": [
      "C:\\Users\\TUF GAMING\\AppData\\Local\\Temp\\ipykernel_19796\\1835136729.py:31: FutureWarning: Series.__getitem__ treating keys as positions is deprecated. In a future version, integer keys will always be treated as labels (consistent with DataFrame behavior). To access a value by position, use `ser.iloc[pos]`\n",
      "  fall_of_extent = ((data['60ma'][i + 1] - data['60ma'][i]) / data['60ma'][i]) * 100\n",
      "C:\\Users\\TUF GAMING\\AppData\\Local\\Temp\\ipykernel_19796\\1835136729.py:31: FutureWarning: Series.__getitem__ treating keys as positions is deprecated. In a future version, integer keys will always be treated as labels (consistent with DataFrame behavior). To access a value by position, use `ser.iloc[pos]`\n",
      "  fall_of_extent = ((data['60ma'][i + 1] - data['60ma'][i]) / data['60ma'][i]) * 100\n"
     ]
    },
    {
     "name": "stdout",
     "output_type": "stream",
     "text": [
      "length of fall list 5466\n",
      "Saved file: C:/MY_PROJECTS/market_wide_scan/op_files/GODREJCP.csv\n",
      "length of data is 3577\n",
      "length of weekly prices 757\n"
     ]
    },
    {
     "name": "stderr",
     "output_type": "stream",
     "text": [
      "C:\\Users\\TUF GAMING\\AppData\\Local\\Temp\\ipykernel_19796\\1835136729.py:31: FutureWarning: Series.__getitem__ treating keys as positions is deprecated. In a future version, integer keys will always be treated as labels (consistent with DataFrame behavior). To access a value by position, use `ser.iloc[pos]`\n",
      "  fall_of_extent = ((data['60ma'][i + 1] - data['60ma'][i]) / data['60ma'][i]) * 100\n"
     ]
    },
    {
     "name": "stdout",
     "output_type": "stream",
     "text": [
      "length of fall list 3577\n",
      "Saved file: C:/MY_PROJECTS/market_wide_scan/op_files/GODREJPROP.csv\n",
      "length of data is 5463\n",
      "length of weekly prices 1149\n"
     ]
    },
    {
     "name": "stderr",
     "output_type": "stream",
     "text": [
      "C:\\Users\\TUF GAMING\\AppData\\Local\\Temp\\ipykernel_19796\\1835136729.py:31: FutureWarning: Series.__getitem__ treating keys as positions is deprecated. In a future version, integer keys will always be treated as labels (consistent with DataFrame behavior). To access a value by position, use `ser.iloc[pos]`\n",
      "  fall_of_extent = ((data['60ma'][i + 1] - data['60ma'][i]) / data['60ma'][i]) * 100\n"
     ]
    },
    {
     "name": "stdout",
     "output_type": "stream",
     "text": [
      "length of fall list 5463\n",
      "Saved file: C:/MY_PROJECTS/market_wide_scan/op_files/GRASIM.csv\n",
      "length of data is 2168\n",
      "length of weekly prices 460\n",
      "length of fall list 2168\n",
      "Saved file: C:/MY_PROJECTS/market_wide_scan/op_files/GUJGASLTD.csv\n",
      "length of data is 1544\n",
      "length of weekly prices 327\n"
     ]
    },
    {
     "name": "stderr",
     "output_type": "stream",
     "text": [
      "C:\\Users\\TUF GAMING\\AppData\\Local\\Temp\\ipykernel_19796\\1835136729.py:31: FutureWarning: Series.__getitem__ treating keys as positions is deprecated. In a future version, integer keys will always be treated as labels (consistent with DataFrame behavior). To access a value by position, use `ser.iloc[pos]`\n",
      "  fall_of_extent = ((data['60ma'][i + 1] - data['60ma'][i]) / data['60ma'][i]) * 100\n",
      "C:\\Users\\TUF GAMING\\AppData\\Local\\Temp\\ipykernel_19796\\1835136729.py:31: FutureWarning: Series.__getitem__ treating keys as positions is deprecated. In a future version, integer keys will always be treated as labels (consistent with DataFrame behavior). To access a value by position, use `ser.iloc[pos]`\n",
      "  fall_of_extent = ((data['60ma'][i + 1] - data['60ma'][i]) / data['60ma'][i]) * 100\n"
     ]
    },
    {
     "name": "stdout",
     "output_type": "stream",
     "text": [
      "length of fall list 1544\n",
      "Saved file: C:/MY_PROJECTS/market_wide_scan/op_files/HAL.csv\n",
      "length of data is 5464\n",
      "length of weekly prices 1149\n"
     ]
    },
    {
     "name": "stderr",
     "output_type": "stream",
     "text": [
      "C:\\Users\\TUF GAMING\\AppData\\Local\\Temp\\ipykernel_19796\\1835136729.py:31: FutureWarning: Series.__getitem__ treating keys as positions is deprecated. In a future version, integer keys will always be treated as labels (consistent with DataFrame behavior). To access a value by position, use `ser.iloc[pos]`\n",
      "  fall_of_extent = ((data['60ma'][i + 1] - data['60ma'][i]) / data['60ma'][i]) * 100\n"
     ]
    },
    {
     "name": "stdout",
     "output_type": "stream",
     "text": [
      "length of fall list 5464\n",
      "Saved file: C:/MY_PROJECTS/market_wide_scan/op_files/HAVELLS.csv\n",
      "length of data is 5437\n",
      "length of weekly prices 1143\n"
     ]
    },
    {
     "name": "stderr",
     "output_type": "stream",
     "text": [
      "C:\\Users\\TUF GAMING\\AppData\\Local\\Temp\\ipykernel_19796\\1835136729.py:31: FutureWarning: Series.__getitem__ treating keys as positions is deprecated. In a future version, integer keys will always be treated as labels (consistent with DataFrame behavior). To access a value by position, use `ser.iloc[pos]`\n",
      "  fall_of_extent = ((data['60ma'][i + 1] - data['60ma'][i]) / data['60ma'][i]) * 100\n"
     ]
    },
    {
     "name": "stdout",
     "output_type": "stream",
     "text": [
      "length of fall list 5437\n",
      "Saved file: C:/MY_PROJECTS/market_wide_scan/op_files/HCLTECH.csv\n",
      "length of data is 0\n",
      "length of weekly prices 0\n",
      "length of fall list 1\n",
      "Saved file: C:/MY_PROJECTS/market_wide_scan/op_files/HDFC.csv\n",
      "length of data is 1455\n",
      "length of weekly prices 309\n",
      "length of fall list 1455\n",
      "Saved file: C:/MY_PROJECTS/market_wide_scan/op_files/HDFCAMC.csv\n",
      "length of data is 7161\n",
      "length of weekly prices 1488\n"
     ]
    },
    {
     "name": "stderr",
     "output_type": "stream",
     "text": [
      "C:\\Users\\TUF GAMING\\AppData\\Local\\Temp\\ipykernel_19796\\1835136729.py:31: FutureWarning: Series.__getitem__ treating keys as positions is deprecated. In a future version, integer keys will always be treated as labels (consistent with DataFrame behavior). To access a value by position, use `ser.iloc[pos]`\n",
      "  fall_of_extent = ((data['60ma'][i + 1] - data['60ma'][i]) / data['60ma'][i]) * 100\n",
      "C:\\Users\\TUF GAMING\\AppData\\Local\\Temp\\ipykernel_19796\\1835136729.py:31: FutureWarning: Series.__getitem__ treating keys as positions is deprecated. In a future version, integer keys will always be treated as labels (consistent with DataFrame behavior). To access a value by position, use `ser.iloc[pos]`\n",
      "  fall_of_extent = ((data['60ma'][i + 1] - data['60ma'][i]) / data['60ma'][i]) * 100\n"
     ]
    },
    {
     "name": "stdout",
     "output_type": "stream",
     "text": [
      "length of fall list 7161\n",
      "Saved file: C:/MY_PROJECTS/market_wide_scan/op_files/HDFCBANK.csv\n",
      "length of data is 1634\n",
      "length of weekly prices 347\n",
      "length of fall list 1634\n",
      "Saved file: C:/MY_PROJECTS/market_wide_scan/op_files/HDFCLIFE.csv\n",
      "length of data is 5463\n",
      "length of weekly prices 1149\n"
     ]
    },
    {
     "name": "stderr",
     "output_type": "stream",
     "text": [
      "C:\\Users\\TUF GAMING\\AppData\\Local\\Temp\\ipykernel_19796\\1835136729.py:31: FutureWarning: Series.__getitem__ treating keys as positions is deprecated. In a future version, integer keys will always be treated as labels (consistent with DataFrame behavior). To access a value by position, use `ser.iloc[pos]`\n",
      "  fall_of_extent = ((data['60ma'][i + 1] - data['60ma'][i]) / data['60ma'][i]) * 100\n",
      "C:\\Users\\TUF GAMING\\AppData\\Local\\Temp\\ipykernel_19796\\1835136729.py:31: FutureWarning: Series.__getitem__ treating keys as positions is deprecated. In a future version, integer keys will always be treated as labels (consistent with DataFrame behavior). To access a value by position, use `ser.iloc[pos]`\n",
      "  fall_of_extent = ((data['60ma'][i + 1] - data['60ma'][i]) / data['60ma'][i]) * 100\n"
     ]
    },
    {
     "name": "stdout",
     "output_type": "stream",
     "text": [
      "length of fall list 5463\n",
      "Saved file: C:/MY_PROJECTS/market_wide_scan/op_files/HEROMOTOCO.csv\n",
      "length of data is 7161\n",
      "length of weekly prices 1488\n"
     ]
    },
    {
     "name": "stderr",
     "output_type": "stream",
     "text": [
      "C:\\Users\\TUF GAMING\\AppData\\Local\\Temp\\ipykernel_19796\\1835136729.py:31: FutureWarning: Series.__getitem__ treating keys as positions is deprecated. In a future version, integer keys will always be treated as labels (consistent with DataFrame behavior). To access a value by position, use `ser.iloc[pos]`\n",
      "  fall_of_extent = ((data['60ma'][i + 1] - data['60ma'][i]) / data['60ma'][i]) * 100\n"
     ]
    },
    {
     "name": "stdout",
     "output_type": "stream",
     "text": [
      "length of fall list 7161\n",
      "Saved file: C:/MY_PROJECTS/market_wide_scan/op_files/HINDALCO.csv\n",
      "length of data is 7157\n",
      "length of weekly prices 1488\n"
     ]
    },
    {
     "name": "stderr",
     "output_type": "stream",
     "text": [
      "C:\\Users\\TUF GAMING\\AppData\\Local\\Temp\\ipykernel_19796\\1835136729.py:31: FutureWarning: Series.__getitem__ treating keys as positions is deprecated. In a future version, integer keys will always be treated as labels (consistent with DataFrame behavior). To access a value by position, use `ser.iloc[pos]`\n",
      "  fall_of_extent = ((data['60ma'][i + 1] - data['60ma'][i]) / data['60ma'][i]) * 100\n"
     ]
    },
    {
     "name": "stdout",
     "output_type": "stream",
     "text": [
      "length of fall list 7157\n",
      "Saved file: C:/MY_PROJECTS/market_wide_scan/op_files/HINDPETRO.csv\n",
      "length of data is 7161\n",
      "length of weekly prices 1488\n"
     ]
    },
    {
     "name": "stderr",
     "output_type": "stream",
     "text": [
      "C:\\Users\\TUF GAMING\\AppData\\Local\\Temp\\ipykernel_19796\\1835136729.py:31: FutureWarning: Series.__getitem__ treating keys as positions is deprecated. In a future version, integer keys will always be treated as labels (consistent with DataFrame behavior). To access a value by position, use `ser.iloc[pos]`\n",
      "  fall_of_extent = ((data['60ma'][i + 1] - data['60ma'][i]) / data['60ma'][i]) * 100\n"
     ]
    },
    {
     "name": "stdout",
     "output_type": "stream",
     "text": [
      "length of fall list 7161\n",
      "Saved file: C:/MY_PROJECTS/market_wide_scan/op_files/HINDUNILVR.csv\n",
      "length of data is 5436\n",
      "length of weekly prices 1143\n"
     ]
    },
    {
     "name": "stderr",
     "output_type": "stream",
     "text": [
      "C:\\Users\\TUF GAMING\\AppData\\Local\\Temp\\ipykernel_19796\\1835136729.py:31: FutureWarning: Series.__getitem__ treating keys as positions is deprecated. In a future version, integer keys will always be treated as labels (consistent with DataFrame behavior). To access a value by position, use `ser.iloc[pos]`\n",
      "  fall_of_extent = ((data['60ma'][i + 1] - data['60ma'][i]) / data['60ma'][i]) * 100\n"
     ]
    },
    {
     "name": "stdout",
     "output_type": "stream",
     "text": [
      "length of fall list 5436\n",
      "Saved file: C:/MY_PROJECTS/market_wide_scan/op_files/HINDZINC.csv\n",
      "length of data is 5466\n",
      "length of weekly prices 1149\n"
     ]
    },
    {
     "name": "stderr",
     "output_type": "stream",
     "text": [
      "C:\\Users\\TUF GAMING\\AppData\\Local\\Temp\\ipykernel_19796\\1835136729.py:31: FutureWarning: Series.__getitem__ treating keys as positions is deprecated. In a future version, integer keys will always be treated as labels (consistent with DataFrame behavior). To access a value by position, use `ser.iloc[pos]`\n",
      "  fall_of_extent = ((data['60ma'][i + 1] - data['60ma'][i]) / data['60ma'][i]) * 100\n"
     ]
    },
    {
     "name": "stdout",
     "output_type": "stream",
     "text": [
      "length of fall list 5466\n",
      "Saved file: C:/MY_PROJECTS/market_wide_scan/op_files/HONAUT.csv\n",
      "length of data is 5463\n",
      "length of weekly prices 1149\n"
     ]
    },
    {
     "name": "stderr",
     "output_type": "stream",
     "text": [
      "C:\\Users\\TUF GAMING\\AppData\\Local\\Temp\\ipykernel_19796\\1835136729.py:31: FutureWarning: Series.__getitem__ treating keys as positions is deprecated. In a future version, integer keys will always be treated as labels (consistent with DataFrame behavior). To access a value by position, use `ser.iloc[pos]`\n",
      "  fall_of_extent = ((data['60ma'][i + 1] - data['60ma'][i]) / data['60ma'][i]) * 100\n"
     ]
    },
    {
     "name": "stdout",
     "output_type": "stream",
     "text": [
      "length of fall list 5463\n",
      "Saved file: C:/MY_PROJECTS/market_wide_scan/op_files/ICICIBANK.csv\n",
      "length of data is 1668\n",
      "length of weekly prices 354\n",
      "length of fall list 1668\n",
      "Saved file: C:/MY_PROJECTS/market_wide_scan/op_files/ICICIGI.csv\n",
      "length of data is 1914\n",
      "length of weekly prices 406\n"
     ]
    },
    {
     "name": "stderr",
     "output_type": "stream",
     "text": [
      "C:\\Users\\TUF GAMING\\AppData\\Local\\Temp\\ipykernel_19796\\1835136729.py:31: FutureWarning: Series.__getitem__ treating keys as positions is deprecated. In a future version, integer keys will always be treated as labels (consistent with DataFrame behavior). To access a value by position, use `ser.iloc[pos]`\n",
      "  fall_of_extent = ((data['60ma'][i + 1] - data['60ma'][i]) / data['60ma'][i]) * 100\n",
      "C:\\Users\\TUF GAMING\\AppData\\Local\\Temp\\ipykernel_19796\\1835136729.py:31: FutureWarning: Series.__getitem__ treating keys as positions is deprecated. In a future version, integer keys will always be treated as labels (consistent with DataFrame behavior). To access a value by position, use `ser.iloc[pos]`\n",
      "  fall_of_extent = ((data['60ma'][i + 1] - data['60ma'][i]) / data['60ma'][i]) * 100\n"
     ]
    },
    {
     "name": "stdout",
     "output_type": "stream",
     "text": [
      "length of fall list 1914\n",
      "Saved file: C:/MY_PROJECTS/market_wide_scan/op_files/ICICIPRULI.csv\n",
      "length of data is 4269\n",
      "length of weekly prices 905\n"
     ]
    },
    {
     "name": "stderr",
     "output_type": "stream",
     "text": [
      "C:\\Users\\TUF GAMING\\AppData\\Local\\Temp\\ipykernel_19796\\1835136729.py:31: FutureWarning: Series.__getitem__ treating keys as positions is deprecated. In a future version, integer keys will always be treated as labels (consistent with DataFrame behavior). To access a value by position, use `ser.iloc[pos]`\n",
      "  fall_of_extent = ((data['60ma'][i + 1] - data['60ma'][i]) / data['60ma'][i]) * 100\n"
     ]
    },
    {
     "name": "stdout",
     "output_type": "stream",
     "text": [
      "length of fall list 4269\n",
      "Saved file: C:/MY_PROJECTS/market_wide_scan/op_files/IDEA.csv\n",
      "length of data is 2134\n",
      "length of weekly prices 453\n",
      "length of fall list 2134\n",
      "Saved file: C:/MY_PROJECTS/market_wide_scan/op_files/IDFCFIRSTB.csv\n",
      "length of data is 5075\n"
     ]
    },
    {
     "name": "stderr",
     "output_type": "stream",
     "text": [
      "C:\\Users\\TUF GAMING\\AppData\\Local\\Temp\\ipykernel_19796\\1835136729.py:31: FutureWarning: Series.__getitem__ treating keys as positions is deprecated. In a future version, integer keys will always be treated as labels (consistent with DataFrame behavior). To access a value by position, use `ser.iloc[pos]`\n",
      "  fall_of_extent = ((data['60ma'][i + 1] - data['60ma'][i]) / data['60ma'][i]) * 100\n",
      "C:\\Users\\TUF GAMING\\AppData\\Local\\Temp\\ipykernel_19796\\1835136729.py:31: FutureWarning: Series.__getitem__ treating keys as positions is deprecated. In a future version, integer keys will always be treated as labels (consistent with DataFrame behavior). To access a value by position, use `ser.iloc[pos]`\n",
      "  fall_of_extent = ((data['60ma'][i + 1] - data['60ma'][i]) / data['60ma'][i]) * 100\n"
     ]
    },
    {
     "name": "stdout",
     "output_type": "stream",
     "text": [
      "length of weekly prices 1072\n",
      "length of fall list 5075\n",
      "Saved file: C:/MY_PROJECTS/market_wide_scan/op_files/IGL.csv\n",
      "length of data is 5465\n",
      "length of weekly prices 1149\n"
     ]
    },
    {
     "name": "stderr",
     "output_type": "stream",
     "text": [
      "C:\\Users\\TUF GAMING\\AppData\\Local\\Temp\\ipykernel_19796\\1835136729.py:31: FutureWarning: Series.__getitem__ treating keys as positions is deprecated. In a future version, integer keys will always be treated as labels (consistent with DataFrame behavior). To access a value by position, use `ser.iloc[pos]`\n",
      "  fall_of_extent = ((data['60ma'][i + 1] - data['60ma'][i]) / data['60ma'][i]) * 100\n"
     ]
    },
    {
     "name": "stdout",
     "output_type": "stream",
     "text": [
      "length of fall list 5465\n",
      "Saved file: C:/MY_PROJECTS/market_wide_scan/op_files/INDHOTEL.csv\n",
      "length of data is 4275\n",
      "length of weekly prices 906\n"
     ]
    },
    {
     "name": "stderr",
     "output_type": "stream",
     "text": [
      "C:\\Users\\TUF GAMING\\AppData\\Local\\Temp\\ipykernel_19796\\1835136729.py:31: FutureWarning: Series.__getitem__ treating keys as positions is deprecated. In a future version, integer keys will always be treated as labels (consistent with DataFrame behavior). To access a value by position, use `ser.iloc[pos]`\n",
      "  fall_of_extent = ((data['60ma'][i + 1] - data['60ma'][i]) / data['60ma'][i]) * 100\n"
     ]
    },
    {
     "name": "stdout",
     "output_type": "stream",
     "text": [
      "length of fall list 4275\n",
      "Saved file: C:/MY_PROJECTS/market_wide_scan/op_files/INDIANB.csv\n",
      "length of data is 2132\n",
      "length of weekly prices 452\n",
      "length of fall list 2132\n",
      "Saved file: C:/MY_PROJECTS/market_wide_scan/op_files/INDIGO.csv\n",
      "length of data is 5464\n",
      "length of weekly prices 1149\n"
     ]
    },
    {
     "name": "stderr",
     "output_type": "stream",
     "text": [
      "C:\\Users\\TUF GAMING\\AppData\\Local\\Temp\\ipykernel_19796\\1835136729.py:31: FutureWarning: Series.__getitem__ treating keys as positions is deprecated. In a future version, integer keys will always be treated as labels (consistent with DataFrame behavior). To access a value by position, use `ser.iloc[pos]`\n",
      "  fall_of_extent = ((data['60ma'][i + 1] - data['60ma'][i]) / data['60ma'][i]) * 100\n",
      "C:\\Users\\TUF GAMING\\AppData\\Local\\Temp\\ipykernel_19796\\1835136729.py:31: FutureWarning: Series.__getitem__ treating keys as positions is deprecated. In a future version, integer keys will always be treated as labels (consistent with DataFrame behavior). To access a value by position, use `ser.iloc[pos]`\n",
      "  fall_of_extent = ((data['60ma'][i + 1] - data['60ma'][i]) / data['60ma'][i]) * 100\n"
     ]
    },
    {
     "name": "stdout",
     "output_type": "stream",
     "text": [
      "length of fall list 5464\n",
      "Saved file: C:/MY_PROJECTS/market_wide_scan/op_files/INDUSINDBK.csv\n",
      "length of data is 2838\n",
      "length of weekly prices 602\n",
      "length of fall list 2838\n",
      "Saved file: C:/MY_PROJECTS/market_wide_scan/op_files/INDUSTOWER.csv\n"
     ]
    },
    {
     "name": "stderr",
     "output_type": "stream",
     "text": [
      "C:\\Users\\TUF GAMING\\AppData\\Local\\Temp\\ipykernel_19796\\1835136729.py:31: FutureWarning: Series.__getitem__ treating keys as positions is deprecated. In a future version, integer keys will always be treated as labels (consistent with DataFrame behavior). To access a value by position, use `ser.iloc[pos]`\n",
      "  fall_of_extent = ((data['60ma'][i + 1] - data['60ma'][i]) / data['60ma'][i]) * 100\n",
      "C:\\Users\\TUF GAMING\\AppData\\Local\\Temp\\ipykernel_19796\\1835136729.py:31: FutureWarning: Series.__getitem__ treating keys as positions is deprecated. In a future version, integer keys will always be treated as labels (consistent with DataFrame behavior). To access a value by position, use `ser.iloc[pos]`\n",
      "  fall_of_extent = ((data['60ma'][i + 1] - data['60ma'][i]) / data['60ma'][i]) * 100\n"
     ]
    },
    {
     "name": "stdout",
     "output_type": "stream",
     "text": [
      "length of data is 7161\n",
      "length of weekly prices 1488\n",
      "length of fall list 7161\n",
      "Saved file: C:/MY_PROJECTS/market_wide_scan/op_files/INFY.csv\n",
      "length of data is 7083\n",
      "length of weekly prices 1473\n"
     ]
    },
    {
     "name": "stderr",
     "output_type": "stream",
     "text": [
      "C:\\Users\\TUF GAMING\\AppData\\Local\\Temp\\ipykernel_19796\\1835136729.py:31: FutureWarning: Series.__getitem__ treating keys as positions is deprecated. In a future version, integer keys will always be treated as labels (consistent with DataFrame behavior). To access a value by position, use `ser.iloc[pos]`\n",
      "  fall_of_extent = ((data['60ma'][i + 1] - data['60ma'][i]) / data['60ma'][i]) * 100\n"
     ]
    },
    {
     "name": "stdout",
     "output_type": "stream",
     "text": [
      "length of fall list 7083\n",
      "Saved file: C:/MY_PROJECTS/market_wide_scan/op_files/IOC.csv\n",
      "length of data is 7158\n",
      "length of weekly prices 1488\n"
     ]
    },
    {
     "name": "stderr",
     "output_type": "stream",
     "text": [
      "C:\\Users\\TUF GAMING\\AppData\\Local\\Temp\\ipykernel_19796\\1835136729.py:31: FutureWarning: Series.__getitem__ treating keys as positions is deprecated. In a future version, integer keys will always be treated as labels (consistent with DataFrame behavior). To access a value by position, use `ser.iloc[pos]`\n",
      "  fall_of_extent = ((data['60ma'][i + 1] - data['60ma'][i]) / data['60ma'][i]) * 100\n"
     ]
    },
    {
     "name": "stdout",
     "output_type": "stream",
     "text": [
      "length of fall list 7158\n",
      "Saved file: C:/MY_PROJECTS/market_wide_scan/op_files/IPCALAB.csv\n",
      "length of data is 1169\n",
      "length of weekly prices 247\n",
      "length of fall list 1169\n",
      "Saved file: C:/MY_PROJECTS/market_wide_scan/op_files/IRCTC.csv\n",
      "length of data is 845\n",
      "length of weekly prices 180\n",
      "length of fall list 845\n",
      "Saved file: C:/MY_PROJECTS/market_wide_scan/op_files/IRFC.csv\n",
      "length of data is 7158\n"
     ]
    },
    {
     "name": "stderr",
     "output_type": "stream",
     "text": [
      "C:\\Users\\TUF GAMING\\AppData\\Local\\Temp\\ipykernel_19796\\1835136729.py:31: FutureWarning: Series.__getitem__ treating keys as positions is deprecated. In a future version, integer keys will always be treated as labels (consistent with DataFrame behavior). To access a value by position, use `ser.iloc[pos]`\n",
      "  fall_of_extent = ((data['60ma'][i + 1] - data['60ma'][i]) / data['60ma'][i]) * 100\n",
      "C:\\Users\\TUF GAMING\\AppData\\Local\\Temp\\ipykernel_19796\\1835136729.py:31: FutureWarning: Series.__getitem__ treating keys as positions is deprecated. In a future version, integer keys will always be treated as labels (consistent with DataFrame behavior). To access a value by position, use `ser.iloc[pos]`\n",
      "  fall_of_extent = ((data['60ma'][i + 1] - data['60ma'][i]) / data['60ma'][i]) * 100\n",
      "C:\\Users\\TUF GAMING\\AppData\\Local\\Temp\\ipykernel_19796\\1835136729.py:31: FutureWarning: Series.__getitem__ treating keys as positions is deprecated. In a future version, integer keys will always be treated as labels (consistent with DataFrame behavior). To access a value by position, use `ser.iloc[pos]`\n",
      "  fall_of_extent = ((data['60ma'][i + 1] - data['60ma'][i]) / data['60ma'][i]) * 100\n"
     ]
    },
    {
     "name": "stdout",
     "output_type": "stream",
     "text": [
      "length of weekly prices 1488\n",
      "length of fall list 7158\n",
      "Saved file: C:/MY_PROJECTS/market_wide_scan/op_files/ITC.csv\n",
      "length of data is 6189\n",
      "length of weekly prices 1294\n"
     ]
    },
    {
     "name": "stderr",
     "output_type": "stream",
     "text": [
      "C:\\Users\\TUF GAMING\\AppData\\Local\\Temp\\ipykernel_19796\\1835136729.py:31: FutureWarning: Series.__getitem__ treating keys as positions is deprecated. In a future version, integer keys will always be treated as labels (consistent with DataFrame behavior). To access a value by position, use `ser.iloc[pos]`\n",
      "  fall_of_extent = ((data['60ma'][i + 1] - data['60ma'][i]) / data['60ma'][i]) * 100\n"
     ]
    },
    {
     "name": "stdout",
     "output_type": "stream",
     "text": [
      "length of fall list 6189\n",
      "Saved file: C:/MY_PROJECTS/market_wide_scan/op_files/JINDALSTEL.csv\n",
      "length of data is 3577\n",
      "length of weekly prices 757\n"
     ]
    },
    {
     "name": "stderr",
     "output_type": "stream",
     "text": [
      "C:\\Users\\TUF GAMING\\AppData\\Local\\Temp\\ipykernel_19796\\1835136729.py:31: FutureWarning: Series.__getitem__ treating keys as positions is deprecated. In a future version, integer keys will always be treated as labels (consistent with DataFrame behavior). To access a value by position, use `ser.iloc[pos]`\n",
      "  fall_of_extent = ((data['60ma'][i + 1] - data['60ma'][i]) / data['60ma'][i]) * 100\n"
     ]
    },
    {
     "name": "stdout",
     "output_type": "stream",
     "text": [
      "length of fall list 3577\n",
      "Saved file: C:/MY_PROJECTS/market_wide_scan/op_files/JSWENERGY.csv\n",
      "length of data is 5243\n",
      "length of weekly prices 1105\n"
     ]
    },
    {
     "name": "stderr",
     "output_type": "stream",
     "text": [
      "C:\\Users\\TUF GAMING\\AppData\\Local\\Temp\\ipykernel_19796\\1835136729.py:31: FutureWarning: Series.__getitem__ treating keys as positions is deprecated. In a future version, integer keys will always be treated as labels (consistent with DataFrame behavior). To access a value by position, use `ser.iloc[pos]`\n",
      "  fall_of_extent = ((data['60ma'][i + 1] - data['60ma'][i]) / data['60ma'][i]) * 100\n"
     ]
    },
    {
     "name": "stdout",
     "output_type": "stream",
     "text": [
      "length of fall list 5243\n",
      "Saved file: C:/MY_PROJECTS/market_wide_scan/op_files/JSWSTEEL.csv\n",
      "length of data is 3553\n",
      "length of weekly prices 752\n"
     ]
    },
    {
     "name": "stderr",
     "output_type": "stream",
     "text": [
      "C:\\Users\\TUF GAMING\\AppData\\Local\\Temp\\ipykernel_19796\\1835136729.py:31: FutureWarning: Series.__getitem__ treating keys as positions is deprecated. In a future version, integer keys will always be treated as labels (consistent with DataFrame behavior). To access a value by position, use `ser.iloc[pos]`\n",
      "  fall_of_extent = ((data['60ma'][i + 1] - data['60ma'][i]) / data['60ma'][i]) * 100\n"
     ]
    },
    {
     "name": "stdout",
     "output_type": "stream",
     "text": [
      "length of fall list 3553\n",
      "Saved file: C:/MY_PROJECTS/market_wide_scan/op_files/JUBLFOOD.csv\n",
      "length of data is 5725\n",
      "length of weekly prices 1201\n"
     ]
    },
    {
     "name": "stderr",
     "output_type": "stream",
     "text": [
      "C:\\Users\\TUF GAMING\\AppData\\Local\\Temp\\ipykernel_19796\\1835136729.py:31: FutureWarning: Series.__getitem__ treating keys as positions is deprecated. In a future version, integer keys will always be treated as labels (consistent with DataFrame behavior). To access a value by position, use `ser.iloc[pos]`\n",
      "  fall_of_extent = ((data['60ma'][i + 1] - data['60ma'][i]) / data['60ma'][i]) * 100\n"
     ]
    },
    {
     "name": "stdout",
     "output_type": "stream",
     "text": [
      "length of fall list 5725\n",
      "Saved file: C:/MY_PROJECTS/market_wide_scan/op_files/KOTAKBANK.csv\n",
      "length of data is 0\n",
      "length of weekly prices 0\n",
      "length of fall list 1\n",
      "Saved file: C:/MY_PROJECTS/market_wide_scan/op_files/L&TFH.csv\n",
      "length of data is 2104\n",
      "length of weekly prices 446\n",
      "length of fall list 2104\n",
      "Saved file: C:/MY_PROJECTS/market_wide_scan/op_files/LALPATHLAB.csv\n",
      "length of data is 1862\n",
      "length of weekly prices 394\n"
     ]
    },
    {
     "name": "stderr",
     "output_type": "stream",
     "text": [
      "C:\\Users\\TUF GAMING\\AppData\\Local\\Temp\\ipykernel_19796\\1835136729.py:31: FutureWarning: Series.__getitem__ treating keys as positions is deprecated. In a future version, integer keys will always be treated as labels (consistent with DataFrame behavior). To access a value by position, use `ser.iloc[pos]`\n",
      "  fall_of_extent = ((data['60ma'][i + 1] - data['60ma'][i]) / data['60ma'][i]) * 100\n",
      "C:\\Users\\TUF GAMING\\AppData\\Local\\Temp\\ipykernel_19796\\1835136729.py:31: FutureWarning: Series.__getitem__ treating keys as positions is deprecated. In a future version, integer keys will always be treated as labels (consistent with DataFrame behavior). To access a value by position, use `ser.iloc[pos]`\n",
      "  fall_of_extent = ((data['60ma'][i + 1] - data['60ma'][i]) / data['60ma'][i]) * 100\n"
     ]
    },
    {
     "name": "stdout",
     "output_type": "stream",
     "text": [
      "length of fall list 1862\n",
      "Saved file: C:/MY_PROJECTS/market_wide_scan/op_files/LAURUSLABS.csv\n",
      "length of data is 5463\n",
      "length of weekly prices 1149\n"
     ]
    },
    {
     "name": "stderr",
     "output_type": "stream",
     "text": [
      "C:\\Users\\TUF GAMING\\AppData\\Local\\Temp\\ipykernel_19796\\1835136729.py:31: FutureWarning: Series.__getitem__ treating keys as positions is deprecated. In a future version, integer keys will always be treated as labels (consistent with DataFrame behavior). To access a value by position, use `ser.iloc[pos]`\n",
      "  fall_of_extent = ((data['60ma'][i + 1] - data['60ma'][i]) / data['60ma'][i]) * 100\n"
     ]
    },
    {
     "name": "stdout",
     "output_type": "stream",
     "text": [
      "length of fall list 5463\n",
      "Saved file: C:/MY_PROJECTS/market_wide_scan/op_files/LICHSGFIN.csv\n",
      "length of data is 526\n",
      "length of weekly prices 112\n",
      "length of fall list 526\n",
      "Saved file: C:/MY_PROJECTS/market_wide_scan/op_files/LICI.csv\n",
      "length of data is 5466\n",
      "length of weekly prices 1149\n"
     ]
    },
    {
     "name": "stderr",
     "output_type": "stream",
     "text": [
      "C:\\Users\\TUF GAMING\\AppData\\Local\\Temp\\ipykernel_19796\\1835136729.py:31: FutureWarning: Series.__getitem__ treating keys as positions is deprecated. In a future version, integer keys will always be treated as labels (consistent with DataFrame behavior). To access a value by position, use `ser.iloc[pos]`\n",
      "  fall_of_extent = ((data['60ma'][i + 1] - data['60ma'][i]) / data['60ma'][i]) * 100\n",
      "C:\\Users\\TUF GAMING\\AppData\\Local\\Temp\\ipykernel_19796\\1835136729.py:31: FutureWarning: Series.__getitem__ treating keys as positions is deprecated. In a future version, integer keys will always be treated as labels (consistent with DataFrame behavior). To access a value by position, use `ser.iloc[pos]`\n",
      "  fall_of_extent = ((data['60ma'][i + 1] - data['60ma'][i]) / data['60ma'][i]) * 100\n"
     ]
    },
    {
     "name": "stdout",
     "output_type": "stream",
     "text": [
      "length of fall list 5466\n",
      "Saved file: C:/MY_PROJECTS/market_wide_scan/op_files/LT.csv\n",
      "length of data is 1962\n",
      "length of weekly prices 416\n",
      "length of fall list 1962\n",
      "Saved file: C:/MY_PROJECTS/market_wide_scan/op_files/LTIM.csv\n",
      "length of data is 1919\n"
     ]
    },
    {
     "name": "stderr",
     "output_type": "stream",
     "text": [
      "C:\\Users\\TUF GAMING\\AppData\\Local\\Temp\\ipykernel_19796\\1835136729.py:31: FutureWarning: Series.__getitem__ treating keys as positions is deprecated. In a future version, integer keys will always be treated as labels (consistent with DataFrame behavior). To access a value by position, use `ser.iloc[pos]`\n",
      "  fall_of_extent = ((data['60ma'][i + 1] - data['60ma'][i]) / data['60ma'][i]) * 100\n",
      "C:\\Users\\TUF GAMING\\AppData\\Local\\Temp\\ipykernel_19796\\1835136729.py:31: FutureWarning: Series.__getitem__ treating keys as positions is deprecated. In a future version, integer keys will always be treated as labels (consistent with DataFrame behavior). To access a value by position, use `ser.iloc[pos]`\n",
      "  fall_of_extent = ((data['60ma'][i + 1] - data['60ma'][i]) / data['60ma'][i]) * 100\n"
     ]
    },
    {
     "name": "stdout",
     "output_type": "stream",
     "text": [
      "length of weekly prices 407\n",
      "length of fall list 1919\n",
      "Saved file: C:/MY_PROJECTS/market_wide_scan/op_files/LTTS.csv\n",
      "length of data is 5674\n",
      "length of weekly prices 1191\n"
     ]
    },
    {
     "name": "stderr",
     "output_type": "stream",
     "text": [
      "C:\\Users\\TUF GAMING\\AppData\\Local\\Temp\\ipykernel_19796\\1835136729.py:31: FutureWarning: Series.__getitem__ treating keys as positions is deprecated. In a future version, integer keys will always be treated as labels (consistent with DataFrame behavior). To access a value by position, use `ser.iloc[pos]`\n",
      "  fall_of_extent = ((data['60ma'][i + 1] - data['60ma'][i]) / data['60ma'][i]) * 100\n"
     ]
    },
    {
     "name": "stdout",
     "output_type": "stream",
     "text": [
      "length of fall list 5674\n",
      "Saved file: C:/MY_PROJECTS/market_wide_scan/op_files/LUPIN.csv\n",
      "length of data is 7159\n",
      "length of weekly prices 1488\n"
     ]
    },
    {
     "name": "stderr",
     "output_type": "stream",
     "text": [
      "C:\\Users\\TUF GAMING\\AppData\\Local\\Temp\\ipykernel_19796\\1835136729.py:31: FutureWarning: Series.__getitem__ treating keys as positions is deprecated. In a future version, integer keys will always be treated as labels (consistent with DataFrame behavior). To access a value by position, use `ser.iloc[pos]`\n",
      "  fall_of_extent = ((data['60ma'][i + 1] - data['60ma'][i]) / data['60ma'][i]) * 100\n"
     ]
    },
    {
     "name": "stdout",
     "output_type": "stream",
     "text": [
      "length of fall list 7159\n",
      "Saved file: C:/MY_PROJECTS/market_wide_scan/op_files/M&M.csv\n",
      "length of data is 4511\n",
      "length of weekly prices 956\n"
     ]
    },
    {
     "name": "stderr",
     "output_type": "stream",
     "text": [
      "C:\\Users\\TUF GAMING\\AppData\\Local\\Temp\\ipykernel_19796\\1835136729.py:31: FutureWarning: Series.__getitem__ treating keys as positions is deprecated. In a future version, integer keys will always be treated as labels (consistent with DataFrame behavior). To access a value by position, use `ser.iloc[pos]`\n",
      "  fall_of_extent = ((data['60ma'][i + 1] - data['60ma'][i]) / data['60ma'][i]) * 100\n"
     ]
    },
    {
     "name": "stdout",
     "output_type": "stream",
     "text": [
      "length of fall list 4511\n",
      "Saved file: C:/MY_PROJECTS/market_wide_scan/op_files/M&MFIN.csv\n",
      "length of data is 7074\n",
      "length of weekly prices 1471\n"
     ]
    },
    {
     "name": "stderr",
     "output_type": "stream",
     "text": [
      "C:\\Users\\TUF GAMING\\AppData\\Local\\Temp\\ipykernel_19796\\1835136729.py:31: FutureWarning: Series.__getitem__ treating keys as positions is deprecated. In a future version, integer keys will always be treated as labels (consistent with DataFrame behavior). To access a value by position, use `ser.iloc[pos]`\n",
      "  fall_of_extent = ((data['60ma'][i + 1] - data['60ma'][i]) / data['60ma'][i]) * 100\n"
     ]
    },
    {
     "name": "stdout",
     "output_type": "stream",
     "text": [
      "length of fall list 7074\n",
      "Saved file: C:/MY_PROJECTS/market_wide_scan/op_files/MARICO.csv\n",
      "length of data is 5199\n",
      "length of weekly prices 1096\n"
     ]
    },
    {
     "name": "stderr",
     "output_type": "stream",
     "text": [
      "C:\\Users\\TUF GAMING\\AppData\\Local\\Temp\\ipykernel_19796\\1835136729.py:31: FutureWarning: Series.__getitem__ treating keys as positions is deprecated. In a future version, integer keys will always be treated as labels (consistent with DataFrame behavior). To access a value by position, use `ser.iloc[pos]`\n",
      "  fall_of_extent = ((data['60ma'][i + 1] - data['60ma'][i]) / data['60ma'][i]) * 100\n"
     ]
    },
    {
     "name": "stdout",
     "output_type": "stream",
     "text": [
      "length of fall list 5199\n",
      "Saved file: C:/MY_PROJECTS/market_wide_scan/op_files/MARUTI.csv\n",
      "length of data is 956\n",
      "length of weekly prices 203\n",
      "length of fall list 956\n",
      "Saved file: C:/MY_PROJECTS/market_wide_scan/op_files/MAXHEALTH.csv\n",
      "length of data is 5462\n",
      "length of weekly prices 1149\n"
     ]
    },
    {
     "name": "stderr",
     "output_type": "stream",
     "text": [
      "C:\\Users\\TUF GAMING\\AppData\\Local\\Temp\\ipykernel_19796\\1835136729.py:31: FutureWarning: Series.__getitem__ treating keys as positions is deprecated. In a future version, integer keys will always be treated as labels (consistent with DataFrame behavior). To access a value by position, use `ser.iloc[pos]`\n",
      "  fall_of_extent = ((data['60ma'][i + 1] - data['60ma'][i]) / data['60ma'][i]) * 100\n",
      "C:\\Users\\TUF GAMING\\AppData\\Local\\Temp\\ipykernel_19796\\1835136729.py:31: FutureWarning: Series.__getitem__ treating keys as positions is deprecated. In a future version, integer keys will always be treated as labels (consistent with DataFrame behavior). To access a value by position, use `ser.iloc[pos]`\n",
      "  fall_of_extent = ((data['60ma'][i + 1] - data['60ma'][i]) / data['60ma'][i]) * 100\n"
     ]
    },
    {
     "name": "stdout",
     "output_type": "stream",
     "text": [
      "length of fall list 5462\n",
      "Saved file: C:/MY_PROJECTS/market_wide_scan/op_files/MCDOWELL-N.csv\n",
      "length of data is 7157\n",
      "length of weekly prices 1488\n"
     ]
    },
    {
     "name": "stderr",
     "output_type": "stream",
     "text": [
      "C:\\Users\\TUF GAMING\\AppData\\Local\\Temp\\ipykernel_19796\\1835136729.py:31: FutureWarning: Series.__getitem__ treating keys as positions is deprecated. In a future version, integer keys will always be treated as labels (consistent with DataFrame behavior). To access a value by position, use `ser.iloc[pos]`\n",
      "  fall_of_extent = ((data['60ma'][i + 1] - data['60ma'][i]) / data['60ma'][i]) * 100\n"
     ]
    },
    {
     "name": "stdout",
     "output_type": "stream",
     "text": [
      "length of fall list 7157\n",
      "Saved file: C:/MY_PROJECTS/market_wide_scan/op_files/MFSL.csv\n",
      "length of data is 5464\n",
      "length of weekly prices 1149\n"
     ]
    },
    {
     "name": "stderr",
     "output_type": "stream",
     "text": [
      "C:\\Users\\TUF GAMING\\AppData\\Local\\Temp\\ipykernel_19796\\1835136729.py:31: FutureWarning: Series.__getitem__ treating keys as positions is deprecated. In a future version, integer keys will always be treated as labels (consistent with DataFrame behavior). To access a value by position, use `ser.iloc[pos]`\n",
      "  fall_of_extent = ((data['60ma'][i + 1] - data['60ma'][i]) / data['60ma'][i]) * 100\n"
     ]
    },
    {
     "name": "stdout",
     "output_type": "stream",
     "text": [
      "length of fall list 5464\n",
      "Saved file: C:/MY_PROJECTS/market_wide_scan/op_files/MOTHERSON.csv\n",
      "length of data is 5463\n",
      "length of weekly prices 1149\n"
     ]
    },
    {
     "name": "stderr",
     "output_type": "stream",
     "text": [
      "C:\\Users\\TUF GAMING\\AppData\\Local\\Temp\\ipykernel_19796\\1835136729.py:31: FutureWarning: Series.__getitem__ treating keys as positions is deprecated. In a future version, integer keys will always be treated as labels (consistent with DataFrame behavior). To access a value by position, use `ser.iloc[pos]`\n",
      "  fall_of_extent = ((data['60ma'][i + 1] - data['60ma'][i]) / data['60ma'][i]) * 100\n"
     ]
    },
    {
     "name": "stdout",
     "output_type": "stream",
     "text": [
      "length of fall list 5463\n",
      "Saved file: C:/MY_PROJECTS/market_wide_scan/op_files/MPHASIS.csv\n",
      "length of data is 5463\n",
      "length of weekly prices 1149\n"
     ]
    },
    {
     "name": "stderr",
     "output_type": "stream",
     "text": [
      "C:\\Users\\TUF GAMING\\AppData\\Local\\Temp\\ipykernel_19796\\1835136729.py:31: FutureWarning: Series.__getitem__ treating keys as positions is deprecated. In a future version, integer keys will always be treated as labels (consistent with DataFrame behavior). To access a value by position, use `ser.iloc[pos]`\n",
      "  fall_of_extent = ((data['60ma'][i + 1] - data['60ma'][i]) / data['60ma'][i]) * 100\n"
     ]
    },
    {
     "name": "stdout",
     "output_type": "stream",
     "text": [
      "length of fall list 5463\n",
      "Saved file: C:/MY_PROJECTS/market_wide_scan/op_files/MRF.csv\n",
      "length of data is 559\n",
      "length of weekly prices 119\n",
      "length of fall list 559\n",
      "Saved file: C:/MY_PROJECTS/market_wide_scan/op_files/MSUMI.csv\n",
      "length of data is 3243\n",
      "length of weekly prices 688\n"
     ]
    },
    {
     "name": "stderr",
     "output_type": "stream",
     "text": [
      "C:\\Users\\TUF GAMING\\AppData\\Local\\Temp\\ipykernel_19796\\1835136729.py:31: FutureWarning: Series.__getitem__ treating keys as positions is deprecated. In a future version, integer keys will always be treated as labels (consistent with DataFrame behavior). To access a value by position, use `ser.iloc[pos]`\n",
      "  fall_of_extent = ((data['60ma'][i + 1] - data['60ma'][i]) / data['60ma'][i]) * 100\n",
      "C:\\Users\\TUF GAMING\\AppData\\Local\\Temp\\ipykernel_19796\\1835136729.py:31: FutureWarning: Series.__getitem__ treating keys as positions is deprecated. In a future version, integer keys will always be treated as labels (consistent with DataFrame behavior). To access a value by position, use `ser.iloc[pos]`\n",
      "  fall_of_extent = ((data['60ma'][i + 1] - data['60ma'][i]) / data['60ma'][i]) * 100\n"
     ]
    },
    {
     "name": "stdout",
     "output_type": "stream",
     "text": [
      "length of fall list 3243\n",
      "Saved file: C:/MY_PROJECTS/market_wide_scan/op_files/MUTHOOTFIN.csv\n",
      "length of data is 4342\n",
      "length of weekly prices 920\n"
     ]
    },
    {
     "name": "stderr",
     "output_type": "stream",
     "text": [
      "C:\\Users\\TUF GAMING\\AppData\\Local\\Temp\\ipykernel_19796\\1835136729.py:31: FutureWarning: Series.__getitem__ treating keys as positions is deprecated. In a future version, integer keys will always be treated as labels (consistent with DataFrame behavior). To access a value by position, use `ser.iloc[pos]`\n",
      "  fall_of_extent = ((data['60ma'][i + 1] - data['60ma'][i]) / data['60ma'][i]) * 100\n"
     ]
    },
    {
     "name": "stdout",
     "output_type": "stream",
     "text": [
      "length of fall list 4342\n",
      "Saved file: C:/MY_PROJECTS/market_wide_scan/op_files/NAUKRI.csv\n",
      "length of data is 4213\n",
      "length of weekly prices 893\n"
     ]
    },
    {
     "name": "stderr",
     "output_type": "stream",
     "text": [
      "C:\\Users\\TUF GAMING\\AppData\\Local\\Temp\\ipykernel_19796\\1835136729.py:31: FutureWarning: Series.__getitem__ treating keys as positions is deprecated. In a future version, integer keys will always be treated as labels (consistent with DataFrame behavior). To access a value by position, use `ser.iloc[pos]`\n",
      "  fall_of_extent = ((data['60ma'][i + 1] - data['60ma'][i]) / data['60ma'][i]) * 100\n"
     ]
    },
    {
     "name": "stdout",
     "output_type": "stream",
     "text": [
      "length of fall list 4213\n",
      "Saved file: C:/MY_PROJECTS/market_wide_scan/op_files/NAVINFLUOR.csv\n",
      "length of data is 5436\n",
      "length of weekly prices 1143\n"
     ]
    },
    {
     "name": "stderr",
     "output_type": "stream",
     "text": [
      "C:\\Users\\TUF GAMING\\AppData\\Local\\Temp\\ipykernel_19796\\1835136729.py:31: FutureWarning: Series.__getitem__ treating keys as positions is deprecated. In a future version, integer keys will always be treated as labels (consistent with DataFrame behavior). To access a value by position, use `ser.iloc[pos]`\n",
      "  fall_of_extent = ((data['60ma'][i + 1] - data['60ma'][i]) / data['60ma'][i]) * 100\n"
     ]
    },
    {
     "name": "stdout",
     "output_type": "stream",
     "text": [
      "length of fall list 5436\n",
      "Saved file: C:/MY_PROJECTS/market_wide_scan/op_files/NESTLEIND.csv\n",
      "length of data is 3658\n",
      "length of weekly prices 775\n"
     ]
    },
    {
     "name": "stderr",
     "output_type": "stream",
     "text": [
      "C:\\Users\\TUF GAMING\\AppData\\Local\\Temp\\ipykernel_19796\\1835136729.py:31: FutureWarning: Series.__getitem__ treating keys as positions is deprecated. In a future version, integer keys will always be treated as labels (consistent with DataFrame behavior). To access a value by position, use `ser.iloc[pos]`\n",
      "  fall_of_extent = ((data['60ma'][i + 1] - data['60ma'][i]) / data['60ma'][i]) * 100\n"
     ]
    },
    {
     "name": "stdout",
     "output_type": "stream",
     "text": [
      "length of fall list 3658\n",
      "Saved file: C:/MY_PROJECTS/market_wide_scan/op_files/NHPC.csv\n",
      "length of data is 4022\n",
      "length of weekly prices 853\n"
     ]
    },
    {
     "name": "stderr",
     "output_type": "stream",
     "text": [
      "C:\\Users\\TUF GAMING\\AppData\\Local\\Temp\\ipykernel_19796\\1835136729.py:31: FutureWarning: Series.__getitem__ treating keys as positions is deprecated. In a future version, integer keys will always be treated as labels (consistent with DataFrame behavior). To access a value by position, use `ser.iloc[pos]`\n",
      "  fall_of_extent = ((data['60ma'][i + 1] - data['60ma'][i]) / data['60ma'][i]) * 100\n"
     ]
    },
    {
     "name": "stdout",
     "output_type": "stream",
     "text": [
      "length of fall list 4022\n",
      "Saved file: C:/MY_PROJECTS/market_wide_scan/op_files/NMDC.csv\n",
      "length of data is 4852\n",
      "length of weekly prices 1027\n"
     ]
    },
    {
     "name": "stderr",
     "output_type": "stream",
     "text": [
      "C:\\Users\\TUF GAMING\\AppData\\Local\\Temp\\ipykernel_19796\\1835136729.py:31: FutureWarning: Series.__getitem__ treating keys as positions is deprecated. In a future version, integer keys will always be treated as labels (consistent with DataFrame behavior). To access a value by position, use `ser.iloc[pos]`\n",
      "  fall_of_extent = ((data['60ma'][i + 1] - data['60ma'][i]) / data['60ma'][i]) * 100\n"
     ]
    },
    {
     "name": "stdout",
     "output_type": "stream",
     "text": [
      "length of fall list 4852\n",
      "Saved file: C:/MY_PROJECTS/market_wide_scan/op_files/NTPC.csv\n",
      "length of data is 653\n",
      "length of weekly prices 139\n",
      "length of fall list 653\n",
      "Saved file: C:/MY_PROJECTS/market_wide_scan/op_files/NYKAA.csv\n",
      "length of data is 3377\n",
      "length of weekly prices 716\n"
     ]
    },
    {
     "name": "stderr",
     "output_type": "stream",
     "text": [
      "C:\\Users\\TUF GAMING\\AppData\\Local\\Temp\\ipykernel_19796\\1835136729.py:31: FutureWarning: Series.__getitem__ treating keys as positions is deprecated. In a future version, integer keys will always be treated as labels (consistent with DataFrame behavior). To access a value by position, use `ser.iloc[pos]`\n",
      "  fall_of_extent = ((data['60ma'][i + 1] - data['60ma'][i]) / data['60ma'][i]) * 100\n",
      "C:\\Users\\TUF GAMING\\AppData\\Local\\Temp\\ipykernel_19796\\1835136729.py:31: FutureWarning: Series.__getitem__ treating keys as positions is deprecated. In a future version, integer keys will always be treated as labels (consistent with DataFrame behavior). To access a value by position, use `ser.iloc[pos]`\n",
      "  fall_of_extent = ((data['60ma'][i + 1] - data['60ma'][i]) / data['60ma'][i]) * 100\n"
     ]
    },
    {
     "name": "stdout",
     "output_type": "stream",
     "text": [
      "length of fall list 3377\n",
      "Saved file: C:/MY_PROJECTS/market_wide_scan/op_files/OBEROIRLTY.csv\n",
      "length of data is 5465\n",
      "length of weekly prices 1150\n"
     ]
    },
    {
     "name": "stderr",
     "output_type": "stream",
     "text": [
      "C:\\Users\\TUF GAMING\\AppData\\Local\\Temp\\ipykernel_19796\\1835136729.py:31: FutureWarning: Series.__getitem__ treating keys as positions is deprecated. In a future version, integer keys will always be treated as labels (consistent with DataFrame behavior). To access a value by position, use `ser.iloc[pos]`\n",
      "  fall_of_extent = ((data['60ma'][i + 1] - data['60ma'][i]) / data['60ma'][i]) * 100\n"
     ]
    },
    {
     "name": "stdout",
     "output_type": "stream",
     "text": [
      "length of fall list 5465\n",
      "Saved file: C:/MY_PROJECTS/market_wide_scan/op_files/OFSS.csv\n",
      "length of data is 3639\n",
      "length of weekly prices 771\n"
     ]
    },
    {
     "name": "stderr",
     "output_type": "stream",
     "text": [
      "C:\\Users\\TUF GAMING\\AppData\\Local\\Temp\\ipykernel_19796\\1835136729.py:31: FutureWarning: Series.__getitem__ treating keys as positions is deprecated. In a future version, integer keys will always be treated as labels (consistent with DataFrame behavior). To access a value by position, use `ser.iloc[pos]`\n",
      "  fall_of_extent = ((data['60ma'][i + 1] - data['60ma'][i]) / data['60ma'][i]) * 100\n"
     ]
    },
    {
     "name": "stdout",
     "output_type": "stream",
     "text": [
      "length of fall list 3639\n",
      "Saved file: C:/MY_PROJECTS/market_wide_scan/op_files/OIL.csv\n",
      "length of data is 7158\n",
      "length of weekly prices 1488\n"
     ]
    },
    {
     "name": "stderr",
     "output_type": "stream",
     "text": [
      "C:\\Users\\TUF GAMING\\AppData\\Local\\Temp\\ipykernel_19796\\1835136729.py:31: FutureWarning: Series.__getitem__ treating keys as positions is deprecated. In a future version, integer keys will always be treated as labels (consistent with DataFrame behavior). To access a value by position, use `ser.iloc[pos]`\n",
      "  fall_of_extent = ((data['60ma'][i + 1] - data['60ma'][i]) / data['60ma'][i]) * 100\n"
     ]
    },
    {
     "name": "stdout",
     "output_type": "stream",
     "text": [
      "length of fall list 7158\n",
      "Saved file: C:/MY_PROJECTS/market_wide_scan/op_files/ONGC.csv\n",
      "length of data is 4264\n",
      "length of weekly prices 904\n"
     ]
    },
    {
     "name": "stderr",
     "output_type": "stream",
     "text": [
      "C:\\Users\\TUF GAMING\\AppData\\Local\\Temp\\ipykernel_19796\\1835136729.py:31: FutureWarning: Series.__getitem__ treating keys as positions is deprecated. In a future version, integer keys will always be treated as labels (consistent with DataFrame behavior). To access a value by position, use `ser.iloc[pos]`\n",
      "  fall_of_extent = ((data['60ma'][i + 1] - data['60ma'][i]) / data['60ma'][i]) * 100\n"
     ]
    },
    {
     "name": "stdout",
     "output_type": "stream",
     "text": [
      "length of fall list 4264\n",
      "Saved file: C:/MY_PROJECTS/market_wide_scan/op_files/PAGEIND.csv\n",
      "length of data is 5463\n",
      "length of weekly prices 1149\n"
     ]
    },
    {
     "name": "stderr",
     "output_type": "stream",
     "text": [
      "C:\\Users\\TUF GAMING\\AppData\\Local\\Temp\\ipykernel_19796\\1835136729.py:31: FutureWarning: Series.__getitem__ treating keys as positions is deprecated. In a future version, integer keys will always be treated as labels (consistent with DataFrame behavior). To access a value by position, use `ser.iloc[pos]`\n",
      "  fall_of_extent = ((data['60ma'][i + 1] - data['60ma'][i]) / data['60ma'][i]) * 100\n"
     ]
    },
    {
     "name": "stdout",
     "output_type": "stream",
     "text": [
      "length of fall list 5463\n",
      "Saved file: C:/MY_PROJECTS/market_wide_scan/op_files/PATANJALI.csv\n",
      "length of data is 647\n",
      "length of weekly prices 138\n",
      "length of fall list 647\n",
      "Saved file: C:/MY_PROJECTS/market_wide_scan/op_files/PAYTM.csv\n",
      "length of data is 7160\n",
      "length of weekly prices 1488\n"
     ]
    },
    {
     "name": "stderr",
     "output_type": "stream",
     "text": [
      "C:\\Users\\TUF GAMING\\AppData\\Local\\Temp\\ipykernel_19796\\1835136729.py:31: FutureWarning: Series.__getitem__ treating keys as positions is deprecated. In a future version, integer keys will always be treated as labels (consistent with DataFrame behavior). To access a value by position, use `ser.iloc[pos]`\n",
      "  fall_of_extent = ((data['60ma'][i + 1] - data['60ma'][i]) / data['60ma'][i]) * 100\n",
      "C:\\Users\\TUF GAMING\\AppData\\Local\\Temp\\ipykernel_19796\\1835136729.py:31: FutureWarning: Series.__getitem__ treating keys as positions is deprecated. In a future version, integer keys will always be treated as labels (consistent with DataFrame behavior). To access a value by position, use `ser.iloc[pos]`\n",
      "  fall_of_extent = ((data['60ma'][i + 1] - data['60ma'][i]) / data['60ma'][i]) * 100\n"
     ]
    },
    {
     "name": "stdout",
     "output_type": "stream",
     "text": [
      "length of fall list 7160\n",
      "Saved file: C:/MY_PROJECTS/market_wide_scan/op_files/PEL.csv\n",
      "length of data is 3516\n",
      "length of weekly prices 744\n"
     ]
    },
    {
     "name": "stderr",
     "output_type": "stream",
     "text": [
      "C:\\Users\\TUF GAMING\\AppData\\Local\\Temp\\ipykernel_19796\\1835136729.py:31: FutureWarning: Series.__getitem__ treating keys as positions is deprecated. In a future version, integer keys will always be treated as labels (consistent with DataFrame behavior). To access a value by position, use `ser.iloc[pos]`\n",
      "  fall_of_extent = ((data['60ma'][i + 1] - data['60ma'][i]) / data['60ma'][i]) * 100\n"
     ]
    },
    {
     "name": "stdout",
     "output_type": "stream",
     "text": [
      "length of fall list 3516\n",
      "Saved file: C:/MY_PROJECTS/market_wide_scan/op_files/PERSISTENT.csv\n",
      "length of data is 5012\n",
      "length of weekly prices 1059\n"
     ]
    },
    {
     "name": "stderr",
     "output_type": "stream",
     "text": [
      "C:\\Users\\TUF GAMING\\AppData\\Local\\Temp\\ipykernel_19796\\1835136729.py:31: FutureWarning: Series.__getitem__ treating keys as positions is deprecated. In a future version, integer keys will always be treated as labels (consistent with DataFrame behavior). To access a value by position, use `ser.iloc[pos]`\n",
      "  fall_of_extent = ((data['60ma'][i + 1] - data['60ma'][i]) / data['60ma'][i]) * 100\n"
     ]
    },
    {
     "name": "stdout",
     "output_type": "stream",
     "text": [
      "length of fall list 5012\n",
      "Saved file: C:/MY_PROJECTS/market_wide_scan/op_files/PETRONET.csv\n",
      "length of data is 4279\n",
      "length of weekly prices 907\n"
     ]
    },
    {
     "name": "stderr",
     "output_type": "stream",
     "text": [
      "C:\\Users\\TUF GAMING\\AppData\\Local\\Temp\\ipykernel_19796\\1835136729.py:31: FutureWarning: Series.__getitem__ treating keys as positions is deprecated. In a future version, integer keys will always be treated as labels (consistent with DataFrame behavior). To access a value by position, use `ser.iloc[pos]`\n",
      "  fall_of_extent = ((data['60ma'][i + 1] - data['60ma'][i]) / data['60ma'][i]) * 100\n"
     ]
    },
    {
     "name": "stdout",
     "output_type": "stream",
     "text": [
      "length of fall list 4279\n",
      "Saved file: C:/MY_PROJECTS/market_wide_scan/op_files/PFC.csv\n",
      "length of data is 5433\n",
      "length of weekly prices 1143\n"
     ]
    },
    {
     "name": "stderr",
     "output_type": "stream",
     "text": [
      "C:\\Users\\TUF GAMING\\AppData\\Local\\Temp\\ipykernel_19796\\1835136729.py:31: FutureWarning: Series.__getitem__ treating keys as positions is deprecated. In a future version, integer keys will always be treated as labels (consistent with DataFrame behavior). To access a value by position, use `ser.iloc[pos]`\n",
      "  fall_of_extent = ((data['60ma'][i + 1] - data['60ma'][i]) / data['60ma'][i]) * 100\n"
     ]
    },
    {
     "name": "stdout",
     "output_type": "stream",
     "text": [
      "length of fall list 5433\n",
      "Saved file: C:/MY_PROJECTS/market_wide_scan/op_files/PGHH.csv\n",
      "length of data is 5463\n",
      "length of weekly prices 1149\n"
     ]
    },
    {
     "name": "stderr",
     "output_type": "stream",
     "text": [
      "C:\\Users\\TUF GAMING\\AppData\\Local\\Temp\\ipykernel_19796\\1835136729.py:31: FutureWarning: Series.__getitem__ treating keys as positions is deprecated. In a future version, integer keys will always be treated as labels (consistent with DataFrame behavior). To access a value by position, use `ser.iloc[pos]`\n",
      "  fall_of_extent = ((data['60ma'][i + 1] - data['60ma'][i]) / data['60ma'][i]) * 100\n"
     ]
    },
    {
     "name": "stdout",
     "output_type": "stream",
     "text": [
      "length of fall list 5463\n",
      "Saved file: C:/MY_PROJECTS/market_wide_scan/op_files/PIDILITIND.csv\n",
      "length of data is 3215\n",
      "length of weekly prices 682\n"
     ]
    },
    {
     "name": "stderr",
     "output_type": "stream",
     "text": [
      "C:\\Users\\TUF GAMING\\AppData\\Local\\Temp\\ipykernel_19796\\1835136729.py:31: FutureWarning: Series.__getitem__ treating keys as positions is deprecated. In a future version, integer keys will always be treated as labels (consistent with DataFrame behavior). To access a value by position, use `ser.iloc[pos]`\n",
      "  fall_of_extent = ((data['60ma'][i + 1] - data['60ma'][i]) / data['60ma'][i]) * 100\n"
     ]
    },
    {
     "name": "stdout",
     "output_type": "stream",
     "text": [
      "length of fall list 3215\n",
      "Saved file: C:/MY_PROJECTS/market_wide_scan/op_files/PIIND.csv\n",
      "length of data is 5465\n",
      "length of weekly prices 1149\n"
     ]
    },
    {
     "name": "stderr",
     "output_type": "stream",
     "text": [
      "C:\\Users\\TUF GAMING\\AppData\\Local\\Temp\\ipykernel_19796\\1835136729.py:31: FutureWarning: Series.__getitem__ treating keys as positions is deprecated. In a future version, integer keys will always be treated as labels (consistent with DataFrame behavior). To access a value by position, use `ser.iloc[pos]`\n",
      "  fall_of_extent = ((data['60ma'][i + 1] - data['60ma'][i]) / data['60ma'][i]) * 100\n"
     ]
    },
    {
     "name": "stdout",
     "output_type": "stream",
     "text": [
      "length of fall list 5465\n",
      "Saved file: C:/MY_PROJECTS/market_wide_scan/op_files/PNB.csv\n",
      "length of data is 650\n",
      "length of weekly prices 138\n",
      "length of fall list 650\n",
      "Saved file: C:/MY_PROJECTS/market_wide_scan/op_files/POLICYBZR.csv\n",
      "length of data is 1287\n",
      "length of weekly prices 273\n",
      "length of fall list 1287\n",
      "Saved file: C:/MY_PROJECTS/market_wide_scan/op_files/POLYCAB.csv\n",
      "length of data is 4989\n"
     ]
    },
    {
     "name": "stderr",
     "output_type": "stream",
     "text": [
      "C:\\Users\\TUF GAMING\\AppData\\Local\\Temp\\ipykernel_19796\\1835136729.py:31: FutureWarning: Series.__getitem__ treating keys as positions is deprecated. In a future version, integer keys will always be treated as labels (consistent with DataFrame behavior). To access a value by position, use `ser.iloc[pos]`\n",
      "  fall_of_extent = ((data['60ma'][i + 1] - data['60ma'][i]) / data['60ma'][i]) * 100\n",
      "C:\\Users\\TUF GAMING\\AppData\\Local\\Temp\\ipykernel_19796\\1835136729.py:31: FutureWarning: Series.__getitem__ treating keys as positions is deprecated. In a future version, integer keys will always be treated as labels (consistent with DataFrame behavior). To access a value by position, use `ser.iloc[pos]`\n",
      "  fall_of_extent = ((data['60ma'][i + 1] - data['60ma'][i]) / data['60ma'][i]) * 100\n",
      "C:\\Users\\TUF GAMING\\AppData\\Local\\Temp\\ipykernel_19796\\1835136729.py:31: FutureWarning: Series.__getitem__ treating keys as positions is deprecated. In a future version, integer keys will always be treated as labels (consistent with DataFrame behavior). To access a value by position, use `ser.iloc[pos]`\n",
      "  fall_of_extent = ((data['60ma'][i + 1] - data['60ma'][i]) / data['60ma'][i]) * 100\n"
     ]
    },
    {
     "name": "stdout",
     "output_type": "stream",
     "text": [
      "length of weekly prices 1054\n",
      "length of fall list 4989\n",
      "Saved file: C:/MY_PROJECTS/market_wide_scan/op_files/POONAWALLA.csv\n",
      "length of data is 4125\n",
      "length of weekly prices 875\n"
     ]
    },
    {
     "name": "stderr",
     "output_type": "stream",
     "text": [
      "C:\\Users\\TUF GAMING\\AppData\\Local\\Temp\\ipykernel_19796\\1835136729.py:31: FutureWarning: Series.__getitem__ treating keys as positions is deprecated. In a future version, integer keys will always be treated as labels (consistent with DataFrame behavior). To access a value by position, use `ser.iloc[pos]`\n",
      "  fall_of_extent = ((data['60ma'][i + 1] - data['60ma'][i]) / data['60ma'][i]) * 100\n"
     ]
    },
    {
     "name": "stdout",
     "output_type": "stream",
     "text": [
      "length of fall list 4125\n",
      "Saved file: C:/MY_PROJECTS/market_wide_scan/op_files/POWERGRID.csv\n",
      "length of data is 3372\n",
      "length of weekly prices 715\n"
     ]
    },
    {
     "name": "stderr",
     "output_type": "stream",
     "text": [
      "C:\\Users\\TUF GAMING\\AppData\\Local\\Temp\\ipykernel_19796\\1835136729.py:31: FutureWarning: Series.__getitem__ treating keys as positions is deprecated. In a future version, integer keys will always be treated as labels (consistent with DataFrame behavior). To access a value by position, use `ser.iloc[pos]`\n",
      "  fall_of_extent = ((data['60ma'][i + 1] - data['60ma'][i]) / data['60ma'][i]) * 100\n"
     ]
    },
    {
     "name": "stdout",
     "output_type": "stream",
     "text": [
      "length of fall list 3372\n",
      "Saved file: C:/MY_PROJECTS/market_wide_scan/op_files/PRESTIGE.csv\n",
      "length of data is 5464\n",
      "length of weekly prices 1149\n"
     ]
    },
    {
     "name": "stderr",
     "output_type": "stream",
     "text": [
      "C:\\Users\\TUF GAMING\\AppData\\Local\\Temp\\ipykernel_19796\\1835136729.py:31: FutureWarning: Series.__getitem__ treating keys as positions is deprecated. In a future version, integer keys will always be treated as labels (consistent with DataFrame behavior). To access a value by position, use `ser.iloc[pos]`\n",
      "  fall_of_extent = ((data['60ma'][i + 1] - data['60ma'][i]) / data['60ma'][i]) * 100\n"
     ]
    },
    {
     "name": "stdout",
     "output_type": "stream",
     "text": [
      "length of fall list 5464\n",
      "Saved file: C:/MY_PROJECTS/market_wide_scan/op_files/RAMCOCEM.csv\n",
      "length of data is 4016\n",
      "length of weekly prices 852\n"
     ]
    },
    {
     "name": "stderr",
     "output_type": "stream",
     "text": [
      "C:\\Users\\TUF GAMING\\AppData\\Local\\Temp\\ipykernel_19796\\1835136729.py:31: FutureWarning: Series.__getitem__ treating keys as positions is deprecated. In a future version, integer keys will always be treated as labels (consistent with DataFrame behavior). To access a value by position, use `ser.iloc[pos]`\n",
      "  fall_of_extent = ((data['60ma'][i + 1] - data['60ma'][i]) / data['60ma'][i]) * 100\n"
     ]
    },
    {
     "name": "stdout",
     "output_type": "stream",
     "text": [
      "length of fall list 4016\n",
      "Saved file: C:/MY_PROJECTS/market_wide_scan/op_files/RECLTD.csv\n",
      "length of data is 7158\n",
      "length of weekly prices 1488\n"
     ]
    },
    {
     "name": "stderr",
     "output_type": "stream",
     "text": [
      "C:\\Users\\TUF GAMING\\AppData\\Local\\Temp\\ipykernel_19796\\1835136729.py:31: FutureWarning: Series.__getitem__ treating keys as positions is deprecated. In a future version, integer keys will always be treated as labels (consistent with DataFrame behavior). To access a value by position, use `ser.iloc[pos]`\n",
      "  fall_of_extent = ((data['60ma'][i + 1] - data['60ma'][i]) / data['60ma'][i]) * 100\n"
     ]
    },
    {
     "name": "stdout",
     "output_type": "stream",
     "text": [
      "length of fall list 7158\n",
      "Saved file: C:/MY_PROJECTS/market_wide_scan/op_files/RELIANCE.csv\n",
      "length of data is 7161\n",
      "length of weekly prices 1488\n"
     ]
    },
    {
     "name": "stderr",
     "output_type": "stream",
     "text": [
      "C:\\Users\\TUF GAMING\\AppData\\Local\\Temp\\ipykernel_19796\\1835136729.py:31: FutureWarning: Series.__getitem__ treating keys as positions is deprecated. In a future version, integer keys will always be treated as labels (consistent with DataFrame behavior). To access a value by position, use `ser.iloc[pos]`\n",
      "  fall_of_extent = ((data['60ma'][i + 1] - data['60ma'][i]) / data['60ma'][i]) * 100\n"
     ]
    },
    {
     "name": "stdout",
     "output_type": "stream",
     "text": [
      "length of fall list 7161\n",
      "Saved file: C:/MY_PROJECTS/market_wide_scan/op_files/SAIL.csv\n",
      "length of data is 1064\n",
      "length of weekly prices 225\n",
      "length of fall list 1064\n",
      "Saved file: C:/MY_PROJECTS/market_wide_scan/op_files/SBICARD.csv\n",
      "length of data is 1666\n",
      "length of weekly prices 353\n"
     ]
    },
    {
     "name": "stderr",
     "output_type": "stream",
     "text": [
      "C:\\Users\\TUF GAMING\\AppData\\Local\\Temp\\ipykernel_19796\\1835136729.py:31: FutureWarning: Series.__getitem__ treating keys as positions is deprecated. In a future version, integer keys will always be treated as labels (consistent with DataFrame behavior). To access a value by position, use `ser.iloc[pos]`\n",
      "  fall_of_extent = ((data['60ma'][i + 1] - data['60ma'][i]) / data['60ma'][i]) * 100\n",
      "C:\\Users\\TUF GAMING\\AppData\\Local\\Temp\\ipykernel_19796\\1835136729.py:31: FutureWarning: Series.__getitem__ treating keys as positions is deprecated. In a future version, integer keys will always be treated as labels (consistent with DataFrame behavior). To access a value by position, use `ser.iloc[pos]`\n",
      "  fall_of_extent = ((data['60ma'][i + 1] - data['60ma'][i]) / data['60ma'][i]) * 100\n",
      "C:\\Users\\TUF GAMING\\AppData\\Local\\Temp\\ipykernel_19796\\1835136729.py:31: FutureWarning: Series.__getitem__ treating keys as positions is deprecated. In a future version, integer keys will always be treated as labels (consistent with DataFrame behavior). To access a value by position, use `ser.iloc[pos]`\n",
      "  fall_of_extent = ((data['60ma'][i + 1] - data['60ma'][i]) / data['60ma'][i]) * 100\n"
     ]
    },
    {
     "name": "stdout",
     "output_type": "stream",
     "text": [
      "length of fall list 1666\n",
      "Saved file: C:/MY_PROJECTS/market_wide_scan/op_files/SBILIFE.csv\n",
      "length of data is 7159\n",
      "length of weekly prices 1488\n",
      "length of fall list 7159\n",
      "Saved file: C:/MY_PROJECTS/market_wide_scan/op_files/SBIN.csv\n",
      "length of data is 5722\n",
      "length of weekly prices 1201\n"
     ]
    },
    {
     "name": "stderr",
     "output_type": "stream",
     "text": [
      "C:\\Users\\TUF GAMING\\AppData\\Local\\Temp\\ipykernel_19796\\1835136729.py:31: FutureWarning: Series.__getitem__ treating keys as positions is deprecated. In a future version, integer keys will always be treated as labels (consistent with DataFrame behavior). To access a value by position, use `ser.iloc[pos]`\n",
      "  fall_of_extent = ((data['60ma'][i + 1] - data['60ma'][i]) / data['60ma'][i]) * 100\n"
     ]
    },
    {
     "name": "stdout",
     "output_type": "stream",
     "text": [
      "length of fall list 5722\n",
      "Saved file: C:/MY_PROJECTS/market_wide_scan/op_files/SHREECEM.csv\n",
      "length of data is 5465\n",
      "length of weekly prices 1149\n"
     ]
    },
    {
     "name": "stderr",
     "output_type": "stream",
     "text": [
      "C:\\Users\\TUF GAMING\\AppData\\Local\\Temp\\ipykernel_19796\\1835136729.py:31: FutureWarning: Series.__getitem__ treating keys as positions is deprecated. In a future version, integer keys will always be treated as labels (consistent with DataFrame behavior). To access a value by position, use `ser.iloc[pos]`\n",
      "  fall_of_extent = ((data['60ma'][i + 1] - data['60ma'][i]) / data['60ma'][i]) * 100\n"
     ]
    },
    {
     "name": "stdout",
     "output_type": "stream",
     "text": [
      "length of fall list 5465\n",
      "Saved file: C:/MY_PROJECTS/market_wide_scan/op_files/SHRIRAMFIN.csv\n",
      "length of data is 6376\n",
      "length of weekly prices 1331\n"
     ]
    },
    {
     "name": "stderr",
     "output_type": "stream",
     "text": [
      "C:\\Users\\TUF GAMING\\AppData\\Local\\Temp\\ipykernel_19796\\1835136729.py:31: FutureWarning: Series.__getitem__ treating keys as positions is deprecated. In a future version, integer keys will always be treated as labels (consistent with DataFrame behavior). To access a value by position, use `ser.iloc[pos]`\n",
      "  fall_of_extent = ((data['60ma'][i + 1] - data['60ma'][i]) / data['60ma'][i]) * 100\n"
     ]
    },
    {
     "name": "stdout",
     "output_type": "stream",
     "text": [
      "length of fall list 6376\n",
      "Saved file: C:/MY_PROJECTS/market_wide_scan/op_files/SIEMENS.csv\n",
      "length of data is 747\n",
      "length of weekly prices 159\n",
      "length of fall list 747\n",
      "Saved file: C:/MY_PROJECTS/market_wide_scan/op_files/SONACOMS.csv\n",
      "length of data is 5463\n",
      "length of weekly prices 1149\n"
     ]
    },
    {
     "name": "stderr",
     "output_type": "stream",
     "text": [
      "C:\\Users\\TUF GAMING\\AppData\\Local\\Temp\\ipykernel_19796\\1835136729.py:31: FutureWarning: Series.__getitem__ treating keys as positions is deprecated. In a future version, integer keys will always be treated as labels (consistent with DataFrame behavior). To access a value by position, use `ser.iloc[pos]`\n",
      "  fall_of_extent = ((data['60ma'][i + 1] - data['60ma'][i]) / data['60ma'][i]) * 100\n",
      "C:\\Users\\TUF GAMING\\AppData\\Local\\Temp\\ipykernel_19796\\1835136729.py:31: FutureWarning: Series.__getitem__ treating keys as positions is deprecated. In a future version, integer keys will always be treated as labels (consistent with DataFrame behavior). To access a value by position, use `ser.iloc[pos]`\n",
      "  fall_of_extent = ((data['60ma'][i + 1] - data['60ma'][i]) / data['60ma'][i]) * 100\n"
     ]
    },
    {
     "name": "stdout",
     "output_type": "stream",
     "text": [
      "length of fall list 5463\n",
      "Saved file: C:/MY_PROJECTS/market_wide_scan/op_files/SRF.csv\n",
      "length of data is 7161\n",
      "length of weekly prices 1488\n"
     ]
    },
    {
     "name": "stderr",
     "output_type": "stream",
     "text": [
      "C:\\Users\\TUF GAMING\\AppData\\Local\\Temp\\ipykernel_19796\\1835136729.py:31: FutureWarning: Series.__getitem__ treating keys as positions is deprecated. In a future version, integer keys will always be treated as labels (consistent with DataFrame behavior). To access a value by position, use `ser.iloc[pos]`\n",
      "  fall_of_extent = ((data['60ma'][i + 1] - data['60ma'][i]) / data['60ma'][i]) * 100\n"
     ]
    },
    {
     "name": "stdout",
     "output_type": "stream",
     "text": [
      "length of fall list 7161\n",
      "Saved file: C:/MY_PROJECTS/market_wide_scan/op_files/SUNPHARMA.csv\n",
      "length of data is 4488\n",
      "length of weekly prices 950\n"
     ]
    },
    {
     "name": "stderr",
     "output_type": "stream",
     "text": [
      "C:\\Users\\TUF GAMING\\AppData\\Local\\Temp\\ipykernel_19796\\1835136729.py:31: FutureWarning: Series.__getitem__ treating keys as positions is deprecated. In a future version, integer keys will always be treated as labels (consistent with DataFrame behavior). To access a value by position, use `ser.iloc[pos]`\n",
      "  fall_of_extent = ((data['60ma'][i + 1] - data['60ma'][i]) / data['60ma'][i]) * 100\n"
     ]
    },
    {
     "name": "stdout",
     "output_type": "stream",
     "text": [
      "length of fall list 4488\n",
      "Saved file: C:/MY_PROJECTS/market_wide_scan/op_files/SUNTV.csv\n",
      "length of data is 2193\n",
      "length of weekly prices 465\n",
      "length of fall list 2193\n"
     ]
    },
    {
     "name": "stderr",
     "output_type": "stream",
     "text": [
      "C:\\Users\\TUF GAMING\\AppData\\Local\\Temp\\ipykernel_19796\\1835136729.py:31: FutureWarning: Series.__getitem__ treating keys as positions is deprecated. In a future version, integer keys will always be treated as labels (consistent with DataFrame behavior). To access a value by position, use `ser.iloc[pos]`\n",
      "  fall_of_extent = ((data['60ma'][i + 1] - data['60ma'][i]) / data['60ma'][i]) * 100\n",
      "C:\\Users\\TUF GAMING\\AppData\\Local\\Temp\\ipykernel_19796\\1835136729.py:31: FutureWarning: Series.__getitem__ treating keys as positions is deprecated. In a future version, integer keys will always be treated as labels (consistent with DataFrame behavior). To access a value by position, use `ser.iloc[pos]`\n",
      "  fall_of_extent = ((data['60ma'][i + 1] - data['60ma'][i]) / data['60ma'][i]) * 100\n"
     ]
    },
    {
     "name": "stdout",
     "output_type": "stream",
     "text": [
      "Saved file: C:/MY_PROJECTS/market_wide_scan/op_files/SYNGENE.csv\n",
      "length of data is 7161\n",
      "length of weekly prices 1488\n",
      "length of fall list 7161\n",
      "Saved file: C:/MY_PROJECTS/market_wide_scan/op_files/TATACHEM.csv\n",
      "length of data is 5463\n",
      "length of weekly prices 1149\n"
     ]
    },
    {
     "name": "stderr",
     "output_type": "stream",
     "text": [
      "C:\\Users\\TUF GAMING\\AppData\\Local\\Temp\\ipykernel_19796\\1835136729.py:31: FutureWarning: Series.__getitem__ treating keys as positions is deprecated. In a future version, integer keys will always be treated as labels (consistent with DataFrame behavior). To access a value by position, use `ser.iloc[pos]`\n",
      "  fall_of_extent = ((data['60ma'][i + 1] - data['60ma'][i]) / data['60ma'][i]) * 100\n"
     ]
    },
    {
     "name": "stdout",
     "output_type": "stream",
     "text": [
      "length of fall list 5463\n",
      "Saved file: C:/MY_PROJECTS/market_wide_scan/op_files/TATACOMM.csv\n",
      "length of data is 7158\n",
      "length of weekly prices 1488\n"
     ]
    },
    {
     "name": "stderr",
     "output_type": "stream",
     "text": [
      "C:\\Users\\TUF GAMING\\AppData\\Local\\Temp\\ipykernel_19796\\1835136729.py:31: FutureWarning: Series.__getitem__ treating keys as positions is deprecated. In a future version, integer keys will always be treated as labels (consistent with DataFrame behavior). To access a value by position, use `ser.iloc[pos]`\n",
      "  fall_of_extent = ((data['60ma'][i + 1] - data['60ma'][i]) / data['60ma'][i]) * 100\n"
     ]
    },
    {
     "name": "stdout",
     "output_type": "stream",
     "text": [
      "length of fall list 7158\n",
      "Saved file: C:/MY_PROJECTS/market_wide_scan/op_files/TATACONSUM.csv\n",
      "length of data is 5463\n",
      "length of weekly prices 1149\n"
     ]
    },
    {
     "name": "stderr",
     "output_type": "stream",
     "text": [
      "C:\\Users\\TUF GAMING\\AppData\\Local\\Temp\\ipykernel_19796\\1835136729.py:31: FutureWarning: Series.__getitem__ treating keys as positions is deprecated. In a future version, integer keys will always be treated as labels (consistent with DataFrame behavior). To access a value by position, use `ser.iloc[pos]`\n",
      "  fall_of_extent = ((data['60ma'][i + 1] - data['60ma'][i]) / data['60ma'][i]) * 100\n"
     ]
    },
    {
     "name": "stdout",
     "output_type": "stream",
     "text": [
      "length of fall list 5463\n",
      "Saved file: C:/MY_PROJECTS/market_wide_scan/op_files/TATAELXSI.csv\n",
      "length of data is 8464\n",
      "length of weekly prices 1749\n"
     ]
    },
    {
     "name": "stderr",
     "output_type": "stream",
     "text": [
      "C:\\Users\\TUF GAMING\\AppData\\Local\\Temp\\ipykernel_19796\\1835136729.py:31: FutureWarning: Series.__getitem__ treating keys as positions is deprecated. In a future version, integer keys will always be treated as labels (consistent with DataFrame behavior). To access a value by position, use `ser.iloc[pos]`\n",
      "  fall_of_extent = ((data['60ma'][i + 1] - data['60ma'][i]) / data['60ma'][i]) * 100\n"
     ]
    },
    {
     "name": "stdout",
     "output_type": "stream",
     "text": [
      "length of fall list 8464\n",
      "Saved file: C:/MY_PROJECTS/market_wide_scan/op_files/TATAMOTORS.csv\n",
      "length of data is 7158\n",
      "length of weekly prices 1488\n"
     ]
    },
    {
     "name": "stderr",
     "output_type": "stream",
     "text": [
      "C:\\Users\\TUF GAMING\\AppData\\Local\\Temp\\ipykernel_19796\\1835136729.py:31: FutureWarning: Series.__getitem__ treating keys as positions is deprecated. In a future version, integer keys will always be treated as labels (consistent with DataFrame behavior). To access a value by position, use `ser.iloc[pos]`\n",
      "  fall_of_extent = ((data['60ma'][i + 1] - data['60ma'][i]) / data['60ma'][i]) * 100\n"
     ]
    },
    {
     "name": "stdout",
     "output_type": "stream",
     "text": [
      "length of fall list 7158\n",
      "Saved file: C:/MY_PROJECTS/market_wide_scan/op_files/TATAPOWER.csv\n",
      "length of data is 7161\n",
      "length of weekly prices 1488\n"
     ]
    },
    {
     "name": "stderr",
     "output_type": "stream",
     "text": [
      "C:\\Users\\TUF GAMING\\AppData\\Local\\Temp\\ipykernel_19796\\1835136729.py:31: FutureWarning: Series.__getitem__ treating keys as positions is deprecated. In a future version, integer keys will always be treated as labels (consistent with DataFrame behavior). To access a value by position, use `ser.iloc[pos]`\n",
      "  fall_of_extent = ((data['60ma'][i + 1] - data['60ma'][i]) / data['60ma'][i]) * 100\n"
     ]
    },
    {
     "name": "stdout",
     "output_type": "stream",
     "text": [
      "length of fall list 7161\n",
      "Saved file: C:/MY_PROJECTS/market_wide_scan/op_files/TATASTEEL.csv\n",
      "length of data is 5434\n",
      "length of weekly prices 1143\n"
     ]
    },
    {
     "name": "stderr",
     "output_type": "stream",
     "text": [
      "C:\\Users\\TUF GAMING\\AppData\\Local\\Temp\\ipykernel_19796\\1835136729.py:31: FutureWarning: Series.__getitem__ treating keys as positions is deprecated. In a future version, integer keys will always be treated as labels (consistent with DataFrame behavior). To access a value by position, use `ser.iloc[pos]`\n",
      "  fall_of_extent = ((data['60ma'][i + 1] - data['60ma'][i]) / data['60ma'][i]) * 100\n"
     ]
    },
    {
     "name": "stdout",
     "output_type": "stream",
     "text": [
      "length of fall list 5434\n",
      "Saved file: C:/MY_PROJECTS/market_wide_scan/op_files/TCS.csv\n",
      "length of data is 4400\n",
      "length of weekly prices 932\n"
     ]
    },
    {
     "name": "stderr",
     "output_type": "stream",
     "text": [
      "C:\\Users\\TUF GAMING\\AppData\\Local\\Temp\\ipykernel_19796\\1835136729.py:31: FutureWarning: Series.__getitem__ treating keys as positions is deprecated. In a future version, integer keys will always be treated as labels (consistent with DataFrame behavior). To access a value by position, use `ser.iloc[pos]`\n",
      "  fall_of_extent = ((data['60ma'][i + 1] - data['60ma'][i]) / data['60ma'][i]) * 100\n"
     ]
    },
    {
     "name": "stdout",
     "output_type": "stream",
     "text": [
      "length of fall list 4400\n",
      "Saved file: C:/MY_PROJECTS/market_wide_scan/op_files/TECHM.csv\n",
      "length of data is 1644\n",
      "length of weekly prices 349\n",
      "length of fall list 1644\n",
      "Saved file: C:/MY_PROJECTS/market_wide_scan/op_files/TIINDIA.csv\n",
      "length of data is 7161\n",
      "length of weekly prices 1488\n"
     ]
    },
    {
     "name": "stderr",
     "output_type": "stream",
     "text": [
      "C:\\Users\\TUF GAMING\\AppData\\Local\\Temp\\ipykernel_19796\\1835136729.py:31: FutureWarning: Series.__getitem__ treating keys as positions is deprecated. In a future version, integer keys will always be treated as labels (consistent with DataFrame behavior). To access a value by position, use `ser.iloc[pos]`\n",
      "  fall_of_extent = ((data['60ma'][i + 1] - data['60ma'][i]) / data['60ma'][i]) * 100\n",
      "C:\\Users\\TUF GAMING\\AppData\\Local\\Temp\\ipykernel_19796\\1835136729.py:31: FutureWarning: Series.__getitem__ treating keys as positions is deprecated. In a future version, integer keys will always be treated as labels (consistent with DataFrame behavior). To access a value by position, use `ser.iloc[pos]`\n",
      "  fall_of_extent = ((data['60ma'][i + 1] - data['60ma'][i]) / data['60ma'][i]) * 100\n"
     ]
    },
    {
     "name": "stdout",
     "output_type": "stream",
     "text": [
      "length of fall list 7161\n",
      "Saved file: C:/MY_PROJECTS/market_wide_scan/op_files/TITAN.csv\n",
      "length of data is 5466\n",
      "length of weekly prices 1149\n"
     ]
    },
    {
     "name": "stderr",
     "output_type": "stream",
     "text": [
      "C:\\Users\\TUF GAMING\\AppData\\Local\\Temp\\ipykernel_19796\\1835136729.py:31: FutureWarning: Series.__getitem__ treating keys as positions is deprecated. In a future version, integer keys will always be treated as labels (consistent with DataFrame behavior). To access a value by position, use `ser.iloc[pos]`\n",
      "  fall_of_extent = ((data['60ma'][i + 1] - data['60ma'][i]) / data['60ma'][i]) * 100\n"
     ]
    },
    {
     "name": "stdout",
     "output_type": "stream",
     "text": [
      "length of fall list 5466\n",
      "Saved file: C:/MY_PROJECTS/market_wide_scan/op_files/TORNTPHARM.csv\n",
      "length of data is 4337\n",
      "length of weekly prices 919\n"
     ]
    },
    {
     "name": "stderr",
     "output_type": "stream",
     "text": [
      "C:\\Users\\TUF GAMING\\AppData\\Local\\Temp\\ipykernel_19796\\1835136729.py:31: FutureWarning: Series.__getitem__ treating keys as positions is deprecated. In a future version, integer keys will always be treated as labels (consistent with DataFrame behavior). To access a value by position, use `ser.iloc[pos]`\n",
      "  fall_of_extent = ((data['60ma'][i + 1] - data['60ma'][i]) / data['60ma'][i]) * 100\n"
     ]
    },
    {
     "name": "stdout",
     "output_type": "stream",
     "text": [
      "length of fall list 4337\n",
      "Saved file: C:/MY_PROJECTS/market_wide_scan/op_files/TORNTPOWER.csv\n",
      "length of data is 5463\n",
      "length of weekly prices 1149\n"
     ]
    },
    {
     "name": "stderr",
     "output_type": "stream",
     "text": [
      "C:\\Users\\TUF GAMING\\AppData\\Local\\Temp\\ipykernel_19796\\1835136729.py:31: FutureWarning: Series.__getitem__ treating keys as positions is deprecated. In a future version, integer keys will always be treated as labels (consistent with DataFrame behavior). To access a value by position, use `ser.iloc[pos]`\n",
      "  fall_of_extent = ((data['60ma'][i + 1] - data['60ma'][i]) / data['60ma'][i]) * 100\n"
     ]
    },
    {
     "name": "stdout",
     "output_type": "stream",
     "text": [
      "length of fall list 5463\n",
      "Saved file: C:/MY_PROJECTS/market_wide_scan/op_files/TRENT.csv\n",
      "length of data is 5463\n",
      "length of weekly prices 1149\n"
     ]
    },
    {
     "name": "stderr",
     "output_type": "stream",
     "text": [
      "C:\\Users\\TUF GAMING\\AppData\\Local\\Temp\\ipykernel_19796\\1835136729.py:31: FutureWarning: Series.__getitem__ treating keys as positions is deprecated. In a future version, integer keys will always be treated as labels (consistent with DataFrame behavior). To access a value by position, use `ser.iloc[pos]`\n",
      "  fall_of_extent = ((data['60ma'][i + 1] - data['60ma'][i]) / data['60ma'][i]) * 100\n"
     ]
    },
    {
     "name": "stdout",
     "output_type": "stream",
     "text": [
      "length of fall list 5463\n",
      "Saved file: C:/MY_PROJECTS/market_wide_scan/op_files/TRIDENT.csv\n",
      "length of data is 5903\n",
      "length of weekly prices 1237\n"
     ]
    },
    {
     "name": "stderr",
     "output_type": "stream",
     "text": [
      "C:\\Users\\TUF GAMING\\AppData\\Local\\Temp\\ipykernel_19796\\1835136729.py:31: FutureWarning: Series.__getitem__ treating keys as positions is deprecated. In a future version, integer keys will always be treated as labels (consistent with DataFrame behavior). To access a value by position, use `ser.iloc[pos]`\n",
      "  fall_of_extent = ((data['60ma'][i + 1] - data['60ma'][i]) / data['60ma'][i]) * 100\n"
     ]
    },
    {
     "name": "stdout",
     "output_type": "stream",
     "text": [
      "length of fall list 5903\n",
      "Saved file: C:/MY_PROJECTS/market_wide_scan/op_files/TTML.csv\n",
      "length of data is 5964\n",
      "length of weekly prices 1249\n"
     ]
    },
    {
     "name": "stderr",
     "output_type": "stream",
     "text": [
      "C:\\Users\\TUF GAMING\\AppData\\Local\\Temp\\ipykernel_19796\\1835136729.py:31: FutureWarning: Series.__getitem__ treating keys as positions is deprecated. In a future version, integer keys will always be treated as labels (consistent with DataFrame behavior). To access a value by position, use `ser.iloc[pos]`\n",
      "  fall_of_extent = ((data['60ma'][i + 1] - data['60ma'][i]) / data['60ma'][i]) * 100\n"
     ]
    },
    {
     "name": "stdout",
     "output_type": "stream",
     "text": [
      "length of fall list 5964\n",
      "Saved file: C:/MY_PROJECTS/market_wide_scan/op_files/TVSMOTOR.csv\n",
      "length of data is 3924\n",
      "length of weekly prices 832\n"
     ]
    },
    {
     "name": "stderr",
     "output_type": "stream",
     "text": [
      "C:\\Users\\TUF GAMING\\AppData\\Local\\Temp\\ipykernel_19796\\1835136729.py:31: FutureWarning: Series.__getitem__ treating keys as positions is deprecated. In a future version, integer keys will always be treated as labels (consistent with DataFrame behavior). To access a value by position, use `ser.iloc[pos]`\n",
      "  fall_of_extent = ((data['60ma'][i + 1] - data['60ma'][i]) / data['60ma'][i]) * 100\n"
     ]
    },
    {
     "name": "stdout",
     "output_type": "stream",
     "text": [
      "length of fall list 3924\n",
      "Saved file: C:/MY_PROJECTS/market_wide_scan/op_files/UBL.csv\n",
      "length of data is 5433\n",
      "length of weekly prices 1143\n"
     ]
    },
    {
     "name": "stderr",
     "output_type": "stream",
     "text": [
      "C:\\Users\\TUF GAMING\\AppData\\Local\\Temp\\ipykernel_19796\\1835136729.py:31: FutureWarning: Series.__getitem__ treating keys as positions is deprecated. In a future version, integer keys will always be treated as labels (consistent with DataFrame behavior). To access a value by position, use `ser.iloc[pos]`\n",
      "  fall_of_extent = ((data['60ma'][i + 1] - data['60ma'][i]) / data['60ma'][i]) * 100\n"
     ]
    },
    {
     "name": "stdout",
     "output_type": "stream",
     "text": [
      "length of fall list 5433\n",
      "Saved file: C:/MY_PROJECTS/market_wide_scan/op_files/ULTRACEMCO.csv\n",
      "length of data is 5404\n",
      "length of weekly prices 1137\n"
     ]
    },
    {
     "name": "stderr",
     "output_type": "stream",
     "text": [
      "C:\\Users\\TUF GAMING\\AppData\\Local\\Temp\\ipykernel_19796\\1835136729.py:31: FutureWarning: Series.__getitem__ treating keys as positions is deprecated. In a future version, integer keys will always be treated as labels (consistent with DataFrame behavior). To access a value by position, use `ser.iloc[pos]`\n",
      "  fall_of_extent = ((data['60ma'][i + 1] - data['60ma'][i]) / data['60ma'][i]) * 100\n"
     ]
    },
    {
     "name": "stdout",
     "output_type": "stream",
     "text": [
      "length of fall list 5404\n",
      "Saved file: C:/MY_PROJECTS/market_wide_scan/op_files/UNIONBANK.csv\n",
      "length of data is 5464\n",
      "length of weekly prices 1149\n"
     ]
    },
    {
     "name": "stderr",
     "output_type": "stream",
     "text": [
      "C:\\Users\\TUF GAMING\\AppData\\Local\\Temp\\ipykernel_19796\\1835136729.py:31: FutureWarning: Series.__getitem__ treating keys as positions is deprecated. In a future version, integer keys will always be treated as labels (consistent with DataFrame behavior). To access a value by position, use `ser.iloc[pos]`\n",
      "  fall_of_extent = ((data['60ma'][i + 1] - data['60ma'][i]) / data['60ma'][i]) * 100\n"
     ]
    },
    {
     "name": "stdout",
     "output_type": "stream",
     "text": [
      "length of fall list 5464\n",
      "Saved file: C:/MY_PROJECTS/market_wide_scan/op_files/UPL.csv\n",
      "length of data is 1890\n",
      "length of weekly prices 400\n",
      "length of fall list 1890\n",
      "Saved file: C:/MY_PROJECTS/market_wide_scan/op_files/VBL.csv\n",
      "length of data is 7161\n"
     ]
    },
    {
     "name": "stderr",
     "output_type": "stream",
     "text": [
      "C:\\Users\\TUF GAMING\\AppData\\Local\\Temp\\ipykernel_19796\\1835136729.py:31: FutureWarning: Series.__getitem__ treating keys as positions is deprecated. In a future version, integer keys will always be treated as labels (consistent with DataFrame behavior). To access a value by position, use `ser.iloc[pos]`\n",
      "  fall_of_extent = ((data['60ma'][i + 1] - data['60ma'][i]) / data['60ma'][i]) * 100\n",
      "C:\\Users\\TUF GAMING\\AppData\\Local\\Temp\\ipykernel_19796\\1835136729.py:31: FutureWarning: Series.__getitem__ treating keys as positions is deprecated. In a future version, integer keys will always be treated as labels (consistent with DataFrame behavior). To access a value by position, use `ser.iloc[pos]`\n",
      "  fall_of_extent = ((data['60ma'][i + 1] - data['60ma'][i]) / data['60ma'][i]) * 100\n"
     ]
    },
    {
     "name": "stdout",
     "output_type": "stream",
     "text": [
      "length of weekly prices 1488\n",
      "length of fall list 7161\n",
      "Saved file: C:/MY_PROJECTS/market_wide_scan/op_files/VEDL.csv\n",
      "length of data is 5466\n",
      "length of weekly prices 1149\n"
     ]
    },
    {
     "name": "stderr",
     "output_type": "stream",
     "text": [
      "C:\\Users\\TUF GAMING\\AppData\\Local\\Temp\\ipykernel_19796\\1835136729.py:31: FutureWarning: Series.__getitem__ treating keys as positions is deprecated. In a future version, integer keys will always be treated as labels (consistent with DataFrame behavior). To access a value by position, use `ser.iloc[pos]`\n",
      "  fall_of_extent = ((data['60ma'][i + 1] - data['60ma'][i]) / data['60ma'][i]) * 100\n"
     ]
    },
    {
     "name": "stdout",
     "output_type": "stream",
     "text": [
      "length of fall list 5466\n",
      "Saved file: C:/MY_PROJECTS/market_wide_scan/op_files/VOLTAS.csv\n",
      "length of data is 5435\n",
      "length of weekly prices 1143\n"
     ]
    },
    {
     "name": "stderr",
     "output_type": "stream",
     "text": [
      "C:\\Users\\TUF GAMING\\AppData\\Local\\Temp\\ipykernel_19796\\1835136729.py:31: FutureWarning: Series.__getitem__ treating keys as positions is deprecated. In a future version, integer keys will always be treated as labels (consistent with DataFrame behavior). To access a value by position, use `ser.iloc[pos]`\n",
      "  fall_of_extent = ((data['60ma'][i + 1] - data['60ma'][i]) / data['60ma'][i]) * 100\n"
     ]
    },
    {
     "name": "stdout",
     "output_type": "stream",
     "text": [
      "length of fall list 5435\n",
      "Saved file: C:/MY_PROJECTS/market_wide_scan/op_files/WHIRLPOOL.csv\n",
      "length of data is 7161\n",
      "length of weekly prices 1488\n"
     ]
    },
    {
     "name": "stderr",
     "output_type": "stream",
     "text": [
      "C:\\Users\\TUF GAMING\\AppData\\Local\\Temp\\ipykernel_19796\\1835136729.py:31: FutureWarning: Series.__getitem__ treating keys as positions is deprecated. In a future version, integer keys will always be treated as labels (consistent with DataFrame behavior). To access a value by position, use `ser.iloc[pos]`\n",
      "  fall_of_extent = ((data['60ma'][i + 1] - data['60ma'][i]) / data['60ma'][i]) * 100\n"
     ]
    },
    {
     "name": "stdout",
     "output_type": "stream",
     "text": [
      "length of fall list 7161\n",
      "Saved file: C:/MY_PROJECTS/market_wide_scan/op_files/WIPRO.csv\n",
      "length of data is 4679\n",
      "length of weekly prices 991\n"
     ]
    },
    {
     "name": "stderr",
     "output_type": "stream",
     "text": [
      "C:\\Users\\TUF GAMING\\AppData\\Local\\Temp\\ipykernel_19796\\1835136729.py:31: FutureWarning: Series.__getitem__ treating keys as positions is deprecated. In a future version, integer keys will always be treated as labels (consistent with DataFrame behavior). To access a value by position, use `ser.iloc[pos]`\n",
      "  fall_of_extent = ((data['60ma'][i + 1] - data['60ma'][i]) / data['60ma'][i]) * 100\n"
     ]
    },
    {
     "name": "stdout",
     "output_type": "stream",
     "text": [
      "length of fall list 4679\n",
      "Saved file: C:/MY_PROJECTS/market_wide_scan/op_files/YESBANK.csv\n",
      "length of data is 5463\n",
      "length of weekly prices 1149\n"
     ]
    },
    {
     "name": "stderr",
     "output_type": "stream",
     "text": [
      "C:\\Users\\TUF GAMING\\AppData\\Local\\Temp\\ipykernel_19796\\1835136729.py:31: FutureWarning: Series.__getitem__ treating keys as positions is deprecated. In a future version, integer keys will always be treated as labels (consistent with DataFrame behavior). To access a value by position, use `ser.iloc[pos]`\n",
      "  fall_of_extent = ((data['60ma'][i + 1] - data['60ma'][i]) / data['60ma'][i]) * 100\n"
     ]
    },
    {
     "name": "stdout",
     "output_type": "stream",
     "text": [
      "length of fall list 5463\n",
      "Saved file: C:/MY_PROJECTS/market_wide_scan/op_files/ZEEL.csv\n",
      "length of data is 727\n",
      "length of weekly prices 155\n",
      "length of fall list 727\n",
      "Saved file: C:/MY_PROJECTS/market_wide_scan/op_files/ZOMATO.csv\n",
      "length of data is 6033\n",
      "length of weekly prices 1263\n"
     ]
    },
    {
     "name": "stderr",
     "output_type": "stream",
     "text": [
      "C:\\Users\\TUF GAMING\\AppData\\Local\\Temp\\ipykernel_19796\\1835136729.py:31: FutureWarning: Series.__getitem__ treating keys as positions is deprecated. In a future version, integer keys will always be treated as labels (consistent with DataFrame behavior). To access a value by position, use `ser.iloc[pos]`\n",
      "  fall_of_extent = ((data['60ma'][i + 1] - data['60ma'][i]) / data['60ma'][i]) * 100\n",
      "C:\\Users\\TUF GAMING\\AppData\\Local\\Temp\\ipykernel_19796\\1835136729.py:31: FutureWarning: Series.__getitem__ treating keys as positions is deprecated. In a future version, integer keys will always be treated as labels (consistent with DataFrame behavior). To access a value by position, use `ser.iloc[pos]`\n",
      "  fall_of_extent = ((data['60ma'][i + 1] - data['60ma'][i]) / data['60ma'][i]) * 100\n"
     ]
    },
    {
     "name": "stdout",
     "output_type": "stream",
     "text": [
      "length of fall list 6033\n",
      "Saved file: C:/MY_PROJECTS/market_wide_scan/op_files/ZYDUSLIFE.csv\n"
     ]
    }
   ],
   "source": [
    "import pandas as pd\n",
    "import glob\n",
    "import os\n",
    "\n",
    "class market_wide_scan:\n",
    "    def __init__(self):\n",
    "        self.directory = \"C:/MY_PROJECTS/market_wide_scan/data\"\n",
    "        \n",
    "    def get_csv_file_paths(self):\n",
    "        csv_files = glob.glob(os.path.join(self.directory, \"*.csv\"))\n",
    "        print(\"type of csv files\", type(csv_files))\n",
    "        return csv_files\n",
    "\n",
    "    def get_paras(self, NOD, MA, column_name):\n",
    "        csv_files = self.get_csv_file_paths()\n",
    "        for file_path in csv_files:\n",
    "            data = pd.read_csv(file_path)\n",
    "            data['Date'] = pd.to_datetime(data['Date'])\n",
    "            data.set_index('Date', inplace=True)\n",
    "            print(\"length of data is\", len(data))\n",
    "            \n",
    "            weekly_prices = data['Close'].resample(NOD).last()\n",
    "            print(\"length of weekly prices\", len(weekly_prices))\n",
    "            \n",
    "            data[column_name] = weekly_prices.reindex(data.index, method='ffill')\n",
    "            weekly_prices_60ma = weekly_prices.rolling(window=MA).mean()\n",
    "            data['60ma'] = weekly_prices_60ma.reindex(data.index, method='ffill')\n",
    "            \n",
    "            fall = []\n",
    "            for i in range(len(data) - 1):\n",
    "                fall_of_extent = ((data['60ma'][i + 1] - data['60ma'][i]) / data['60ma'][i]) * 100\n",
    "                fall.append(fall_of_extent)\n",
    "            fall.append(0.0)\n",
    "            \n",
    "            print(\"length of fall list\", len(fall))\n",
    "            data['extent_of_fall'] = fall\n",
    "            \n",
    "            file_name_with_extension = os.path.basename(file_path)\n",
    "            file_name, file_extension = os.path.splitext(file_name_with_extension)\n",
    "            output_path = f\"C:/MY_PROJECTS/market_wide_scan/op_files/{file_name}.csv\"\n",
    "            \n",
    "            data.to_csv(output_path)\n",
    "            print(f\"Saved file: {output_path}\")\n",
    "        \n",
    "        return \"done all process\"\n",
    "\n",
    "# Parameters\n",
    "NOD = 'W'\n",
    "MA = 60\n",
    "column_name = 'Weekly'\n",
    "\n",
    "# Create an instance of the class and call the method\n",
    "scanner = market_wide_scan()\n",
    "paras = scanner.get_paras(NOD, MA, column_name)\n"
   ]
  },
  {
   "cell_type": "code",
   "execution_count": 44,
   "metadata": {},
   "outputs": [
    {
     "name": "stdout",
     "output_type": "stream",
     "text": [
      "loaded data ADANIENT\n",
      "           Date         Open         High          Low        Close  \\\n",
      "5461 2024-06-28  3190.000000  3211.949951  3157.000000  3177.149902   \n",
      "5456 2024-06-21  3265.050049  3277.100098  3176.399902  3189.300049   \n",
      "5452 2024-06-14  3225.000000  3275.000000  3221.100098  3261.750000   \n",
      "5447 2024-06-07  3170.399902  3233.750000  3151.600098  3219.550049   \n",
      "5442 2024-05-31  3225.250000  3434.449951  3225.250000  3411.350098   \n",
      "...         ...          ...          ...          ...          ...   \n",
      "324  2003-09-26     1.467608     1.531217     1.467608     1.508992   \n",
      "319  2003-09-19     1.525086     1.531984     1.472206     1.497497   \n",
      "314  2003-09-12     1.632379     1.647706     1.594060     1.611687   \n",
      "309  2003-09-05     1.624715     1.647706     1.594060     1.616285   \n",
      "304  2003-08-29     1.486768     1.524320     1.470674     1.485235   \n",
      "\n",
      "        Adj Close   Volume       Weekly         60ma  extent_of_fall  \n",
      "5461  3177.149902   960905  3189.300049  2725.227515        0.768651  \n",
      "5456  3189.300049  4697655  3261.750000  2704.155013        0.779264  \n",
      "5452  3261.750000  4224855  3219.550049  2679.842513        0.907236  \n",
      "5447  3218.252197  4740455  3411.350098  2657.362512        0.845952  \n",
      "5442  3409.974854  6384589  3384.949951  2629.740845        1.050357  \n",
      "...           ...      ...          ...          ...             ...  \n",
      "324      0.524624   418071     1.497497     1.191700        0.403005  \n",
      "319      0.520628   407750     1.611687     1.187996        0.311798  \n",
      "314      0.560327   489472     1.616285     1.183985        0.338746  \n",
      "309      0.561926   566380     1.485235     1.180166        0.323607  \n",
      "304      0.045413   533576     1.473739     1.178378        0.151752  \n",
      "\n",
      "[1088 rows x 10 columns]\n"
     ]
    }
   ],
   "source": [
    "import datetime\n",
    "import numpy as np\n",
    "\n",
    "def get_results(symbol):\n",
    "    output_directory = \"C:/MY_PROJECTS/market_wide_scan/op_files\"\n",
    "    file_path = os.path.join(output_directory,f\"{symbol}.csv\")\n",
    "    if os.path.exists(file_path):\n",
    "        data = pd.read_csv(file_path)\n",
    "        data['Date'] = pd.to_datetime(data['Date'])\n",
    "        data.sort_values(by='Date',ascending=False,inplace=True)\n",
    "        data = data[np.isclose(data['extent_of_fall'],0)==False]\n",
    "        data.dropna(subset=['extent_of_fall'],inplace=True)\n",
    "        print(f\"loaded data {symbol}\")\n",
    "        return data\n",
    "    else:\n",
    "        print(f\"Symbol {symbol} not found\")\n",
    "        return None\n",
    "\n",
    "result = get_results(\"ADANIENT\")\n",
    "print(result)"
   ]
  },
  {
   "cell_type": "code",
   "execution_count": null,
   "metadata": {},
   "outputs": [],
   "source": []
  }
 ],
 "metadata": {
  "kernelspec": {
   "display_name": "OLLAMA",
   "language": "python",
   "name": "python3"
  },
  "language_info": {
   "codemirror_mode": {
    "name": "ipython",
    "version": 3
   },
   "file_extension": ".py",
   "mimetype": "text/x-python",
   "name": "python",
   "nbconvert_exporter": "python",
   "pygments_lexer": "ipython3",
   "version": "3.12.3"
  }
 },
 "nbformat": 4,
 "nbformat_minor": 2
}

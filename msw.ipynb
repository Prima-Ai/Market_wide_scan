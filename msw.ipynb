{
 "cells": [
  {
   "cell_type": "code",
   "execution_count": 10,
   "metadata": {},
   "outputs": [
    {
     "name": "stdout",
     "output_type": "stream",
     "text": [
      "length of data is 5465\n",
      "lenght of weekly prices 2680\n"
     ]
    },
    {
     "name": "stderr",
     "output_type": "stream",
     "text": [
      "C:\\Users\\TUF GAMING\\AppData\\Local\\Temp\\ipykernel_8356\\4221398541.py:16: FutureWarning: Series.__getitem__ treating keys as positions is deprecated. In a future version, integer keys will always be treated as labels (consistent with DataFrame behavior). To access a value by position, use `ser.iloc[pos]`\n",
      "  fall_of_extent = ((data['60ma'][i+1] - data['60ma'][i])/data['60ma'][i])*100\n"
     ]
    },
    {
     "name": "stdout",
     "output_type": "stream",
     "text": [
      "lenght of fall list 5465\n"
     ]
    },
    {
     "data": {
      "text/plain": [
       "'done all process'"
      ]
     },
     "execution_count": 10,
     "metadata": {},
     "output_type": "execute_result"
    }
   ],
   "source": [
    "import pandas as pd\n",
    "\n",
    "def get_paras(path,NOD,MA,column_name):\n",
    "    data = pd.read_csv(path)\n",
    "    data['Date'] = pd.to_datetime(data['Date'])\n",
    "    data.set_index('Date',inplace=True)\n",
    "    print(\"length of data is\",len(data))\n",
    "    weekly_prices = data['Close'].resample(NOD).last()\n",
    "    print(\"lenght of weekly prices\",len(weekly_prices))\n",
    "    data[column_name] = weekly_prices.reindex(data.index,method='ffill')\n",
    "    # calculate 60ma for weekly data\n",
    "    weekly_prices_60ma = weekly_prices.rolling(window=MA).mean()\n",
    "    data['60ma'] = weekly_prices_60ma.reindex(data.index, method='ffill')\n",
    "    fall = []\n",
    "    for i in range(len(data)-1):\n",
    "        fall_of_extent = ((data['60ma'][i+1] - data['60ma'][i])/data['60ma'][i])*100\n",
    "        fall.append(fall_of_extent)\n",
    "    fall.append(0.0)\n",
    "    print(\"lenght of fall list\",len(fall))\n",
    "    data['extent_of_fall'] = fall\n",
    "    data = data.to_csv(\"C:/MY_PROJECTS/market_wide_scan/Daily.csv\")\n",
    "    return \"done all process\"\n",
    "\n",
    "path = \"C:/MY_PROJECTS/market_wide_scan/data/ADANIENT.csv\"\n",
    "NOD = '3D'\n",
    "MA = 60\n",
    "column_name = 'Daily'\n",
    "get_paras(path,NOD,MA,column_name)"
   ]
  },
  {
   "cell_type": "code",
   "execution_count": null,
   "metadata": {},
   "outputs": [],
   "source": []
  }
 ],
 "metadata": {
  "kernelspec": {
   "display_name": "OLLAMA",
   "language": "python",
   "name": "python3"
  },
  "language_info": {
   "codemirror_mode": {
    "name": "ipython",
    "version": 3
   },
   "file_extension": ".py",
   "mimetype": "text/x-python",
   "name": "python",
   "nbconvert_exporter": "python",
   "pygments_lexer": "ipython3",
   "version": "3.12.3"
  }
 },
 "nbformat": 4,
 "nbformat_minor": 2
}

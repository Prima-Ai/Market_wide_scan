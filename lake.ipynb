{
 "cells": [
  {
   "cell_type": "code",
   "execution_count": 7,
   "metadata": {},
   "outputs": [],
   "source": [
    "import polars as pl"
   ]
  },
  {
   "cell_type": "code",
   "execution_count": 9,
   "metadata": {},
   "outputs": [
    {
     "data": {
      "text/html": [
       "<div><style>\n",
       ".dataframe > thead > tr,\n",
       ".dataframe > tbody > tr {\n",
       "  text-align: right;\n",
       "  white-space: pre-wrap;\n",
       "}\n",
       "</style>\n",
       "<small>shape: (5, 10)</small><table border=\"1\" class=\"dataframe\"><thead><tr><th>Date</th><th>Open</th><th>High</th><th>Low</th><th>Close</th><th>Adj Close</th><th>Volume</th><th>60_MA</th><th>60ma</th><th>extent_of_fall</th></tr><tr><td>str</td><td>f64</td><td>f64</td><td>f64</td><td>f64</td><td>f64</td><td>i64</td><td>f64</td><td>str</td><td>str</td></tr></thead><tbody><tr><td>&quot;2002-07-01&quot;</td><td>9.832109</td><td>10.186174</td><td>9.703193</td><td>9.875686</td><td>7.386036</td><td>268312</td><td>null</td><td>null</td><td>null</td></tr><tr><td>&quot;2002-07-02&quot;</td><td>10.071784</td><td>10.0736</td><td>9.735876</td><td>9.821215</td><td>7.345295</td><td>133963</td><td>null</td><td>null</td><td>null</td></tr><tr><td>&quot;2002-07-03&quot;</td><td>9.895659</td><td>10.168017</td><td>9.741323</td><td>10.089941</td><td>7.546277</td><td>89276</td><td>null</td><td>null</td><td>null</td></tr><tr><td>&quot;2002-07-04&quot;</td><td>10.089941</td><td>10.309643</td><td>10.059074</td><td>10.148044</td><td>7.58973</td><td>313347</td><td>null</td><td>null</td><td>null</td></tr><tr><td>&quot;2002-07-05&quot;</td><td>10.211594</td><td>10.4549</td><td>10.168017</td><td>10.247908</td><td>7.664421</td><td>262469</td><td>null</td><td>null</td><td>null</td></tr></tbody></table></div>"
      ],
      "text/plain": [
       "shape: (5, 10)\n",
       "┌────────────┬───────────┬───────────┬───────────┬───┬────────┬───────┬──────┬────────────────┐\n",
       "│ Date       ┆ Open      ┆ High      ┆ Low       ┆ … ┆ Volume ┆ 60_MA ┆ 60ma ┆ extent_of_fall │\n",
       "│ ---        ┆ ---       ┆ ---       ┆ ---       ┆   ┆ ---    ┆ ---   ┆ ---  ┆ ---            │\n",
       "│ str        ┆ f64       ┆ f64       ┆ f64       ┆   ┆ i64    ┆ f64   ┆ str  ┆ str            │\n",
       "╞════════════╪═══════════╪═══════════╪═══════════╪═══╪════════╪═══════╪══════╪════════════════╡\n",
       "│ 2002-07-01 ┆ 9.832109  ┆ 10.186174 ┆ 9.703193  ┆ … ┆ 268312 ┆ null  ┆ null ┆ null           │\n",
       "│ 2002-07-02 ┆ 10.071784 ┆ 10.0736   ┆ 9.735876  ┆ … ┆ 133963 ┆ null  ┆ null ┆ null           │\n",
       "│ 2002-07-03 ┆ 9.895659  ┆ 10.168017 ┆ 9.741323  ┆ … ┆ 89276  ┆ null  ┆ null ┆ null           │\n",
       "│ 2002-07-04 ┆ 10.089941 ┆ 10.309643 ┆ 10.059074 ┆ … ┆ 313347 ┆ null  ┆ null ┆ null           │\n",
       "│ 2002-07-05 ┆ 10.211594 ┆ 10.4549   ┆ 10.168017 ┆ … ┆ 262469 ┆ null  ┆ null ┆ null           │\n",
       "└────────────┴───────────┴───────────┴───────────┴───┴────────┴───────┴──────┴────────────────┘"
      ]
     },
     "execution_count": 9,
     "metadata": {},
     "output_type": "execute_result"
    }
   ],
   "source": [
    "data = pl.read_csv(r\"C:\\MY_PROJECTS\\market_wide_scan\\op_files\\ABB.csv\")\n",
    "data.head()"
   ]
  },
  {
   "cell_type": "code",
   "execution_count": 13,
   "metadata": {},
   "outputs": [
    {
     "data": {
      "text/plain": [
       "0"
      ]
     },
     "execution_count": 13,
     "metadata": {},
     "output_type": "execute_result"
    }
   ],
   "source": [
    "def find_lake():\n",
    "    start = 0\n",
    "    end = 0\n",
    "    for i in range(len(data)-1):\n",
    "        if start <= end:\n",
    "            if data['Close'][i] == data['60_MA'][i]:\n",
    "                start = start + 1\n",
    "        elif data['Close'][i] == data['60_MA'][i]:\n",
    "            end = end + 1\n",
    "    no_lakes = start\n",
    "    activate_lakes = start - end\n",
    "find_lake()"
   ]
  },
  {
   "cell_type": "code",
   "execution_count": null,
   "metadata": {},
   "outputs": [],
   "source": []
  }
 ],
 "metadata": {
  "language_info": {
   "name": "python"
  }
 },
 "nbformat": 4,
 "nbformat_minor": 2
}
